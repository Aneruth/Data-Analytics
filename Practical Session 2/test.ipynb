{
 "metadata": {
  "language_info": {
   "codemirror_mode": {
    "name": "ipython",
    "version": 3
   },
   "file_extension": ".py",
   "mimetype": "text/x-python",
   "name": "python",
   "nbconvert_exporter": "python",
   "pygments_lexer": "ipython3",
   "version": "3.8.5-final"
  },
  "orig_nbformat": 2,
  "kernelspec": {
   "name": "python3",
   "display_name": "Python 3.8.5 64-bit",
   "metadata": {
    "interpreter": {
     "hash": "aee8b7b246df8f9039afb4144a1f6fd8d2ca17a180786b69acc140d282b71a49"
    }
   }
  }
 },
 "nbformat": 4,
 "nbformat_minor": 2,
 "cells": [
  {
   "cell_type": "code",
   "execution_count": 1,
   "metadata": {},
   "outputs": [],
   "source": [
    "#import libraries \n",
    "import numpy as np\n",
    "import pandas as pd\n",
    "import matplotlib.pyplot as plt\n",
    "import seaborn as sns\n",
    "import sqlite3"
   ]
  },
  {
   "cell_type": "code",
   "execution_count": 2,
   "metadata": {},
   "outputs": [],
   "source": [
    "#connect to the MIMIC database using sqlite3 library.\n",
    "con = sqlite3.connect('/Users/aneruthmohanasundaram/Documents/GitHub/Data-Analytics/Practical Session 2/Datasets/mimicdata.sqlite')"
   ]
  },
  {
   "cell_type": "code",
   "execution_count": 3,
   "metadata": {},
   "outputs": [
    {
     "output_type": "stream",
     "name": "stdout",
     "text": [
      "['CHARTEVENTS', 'DIAGNOSES_ICD', 'D_ICD_DIAGNOSES', 'D_ITEMS', 'D_LABITEMS', 'ICUSTAYS', 'INPUTEVENTS_MV', 'LABEVENTS', 'OUTPUTEVENTS', 'PRESCRIPTIONS', 'PROCEDUREEVENTS_MV', 'TRANSFERS', 'ADMISSIONS', 'MICROBIOLOGYEVENTS', 'PATIENTS']\n"
     ]
    }
   ],
   "source": [
    "#list all the table names present in the database.\n",
    "cursor = con.cursor()\n",
    "columns = [col[0] for col in cursor.execute(\"SELECT name FROM sqlite_master WHERE type='table';\")]\n",
    "print(columns)"
   ]
  },
  {
   "cell_type": "code",
   "execution_count": 4,
   "metadata": {},
   "outputs": [
    {
     "output_type": "stream",
     "name": "stdout",
     "text": [
      "Number of records present in table1 183\nNumber of records present in table2 11\n"
     ]
    }
   ],
   "source": [
    "#choose two tables of your choice and find out for each of them, their corresponding column names and the number of records present.\n",
    "\n",
    "# For Table 1\n",
    "cursor.execute(\"SELECT * FROM DIAGNOSES_ICD\")\n",
    "table1 = cursor.fetchall()\n",
    "print(f'Number of records present in table1 {len(table1)}')\n",
    "\n",
    "# For Table 2\n",
    "cursor.execute(\"SELECT * FROM ICUSTAYS\")\n",
    "table2 = cursor.fetchall()\n",
    "print(f'Number of records present in table2 {len(table2)}')"
   ]
  },
  {
   "cell_type": "code",
   "execution_count": 5,
   "metadata": {},
   "outputs": [],
   "source": [
    "#read these two tables into a dataframe.\n",
    "query = \"\"\"SELECT *\n",
    "        FROM DIAGNOSES_ICD,ICUSTAYS \"\"\"\n",
    "df = pd.read_sql_query(query,con)"
   ]
  },
  {
   "cell_type": "code",
   "execution_count": 6,
   "metadata": {},
   "outputs": [
    {
     "output_type": "execute_result",
     "data": {
      "text/plain": [
       "   ROW_ID  SUBJECT_ID  HADM_ID  SEQ_NUM ICD9_CODE  ROW_ID  SUBJECT_ID  \\\n",
       "0  379265       40004   121157        1     34591   41339       40004   \n",
       "1  379265       40004   121157        1     34591   41347       40036   \n",
       "2  379265       40004   121157        1     34591   41363       40080   \n",
       "3  379265       40004   121157        1     34591   41365       40084   \n",
       "4  379265       40004   121157        1     34591   41373       40116   \n",
       "\n",
       "   HADM_ID  ICUSTAY_ID    DBSOURCE FIRST_CAREUNIT LAST_CAREUNIT  FIRST_WARDID  \\\n",
       "0   121157      256307  metavision           MICU          MICU            50   \n",
       "1   198489      285485  metavision          MSICU         MSICU            52   \n",
       "2   162107      252522  metavision           MICU          MICU            23   \n",
       "3   195762      264630  metavision          TSICU         TSICU            14   \n",
       "4   157106      232646  metavision           MICU          MICU            23   \n",
       "\n",
       "   LAST_WARDID               INTIME              OUTTIME     LOS  \n",
       "0           50  2171-03-01 17:51:30  2171-03-05 18:28:23  4.0256  \n",
       "1           52  2141-08-01 23:48:48  2141-08-02 18:41:50  0.7868  \n",
       "2           23  2106-05-31 16:43:46  2106-06-05 13:18:50  4.8577  \n",
       "3           14  2173-01-31 22:11:54  2173-02-05 04:13:20  4.2510  \n",
       "4           23  2150-02-19 00:14:33  2150-02-25 17:03:04  6.7004  "
      ],
      "text/html": "<div>\n<style scoped>\n    .dataframe tbody tr th:only-of-type {\n        vertical-align: middle;\n    }\n\n    .dataframe tbody tr th {\n        vertical-align: top;\n    }\n\n    .dataframe thead th {\n        text-align: right;\n    }\n</style>\n<table border=\"1\" class=\"dataframe\">\n  <thead>\n    <tr style=\"text-align: right;\">\n      <th></th>\n      <th>ROW_ID</th>\n      <th>SUBJECT_ID</th>\n      <th>HADM_ID</th>\n      <th>SEQ_NUM</th>\n      <th>ICD9_CODE</th>\n      <th>ROW_ID</th>\n      <th>SUBJECT_ID</th>\n      <th>HADM_ID</th>\n      <th>ICUSTAY_ID</th>\n      <th>DBSOURCE</th>\n      <th>FIRST_CAREUNIT</th>\n      <th>LAST_CAREUNIT</th>\n      <th>FIRST_WARDID</th>\n      <th>LAST_WARDID</th>\n      <th>INTIME</th>\n      <th>OUTTIME</th>\n      <th>LOS</th>\n    </tr>\n  </thead>\n  <tbody>\n    <tr>\n      <th>0</th>\n      <td>379265</td>\n      <td>40004</td>\n      <td>121157</td>\n      <td>1</td>\n      <td>34591</td>\n      <td>41339</td>\n      <td>40004</td>\n      <td>121157</td>\n      <td>256307</td>\n      <td>metavision</td>\n      <td>MICU</td>\n      <td>MICU</td>\n      <td>50</td>\n      <td>50</td>\n      <td>2171-03-01 17:51:30</td>\n      <td>2171-03-05 18:28:23</td>\n      <td>4.0256</td>\n    </tr>\n    <tr>\n      <th>1</th>\n      <td>379265</td>\n      <td>40004</td>\n      <td>121157</td>\n      <td>1</td>\n      <td>34591</td>\n      <td>41347</td>\n      <td>40036</td>\n      <td>198489</td>\n      <td>285485</td>\n      <td>metavision</td>\n      <td>MSICU</td>\n      <td>MSICU</td>\n      <td>52</td>\n      <td>52</td>\n      <td>2141-08-01 23:48:48</td>\n      <td>2141-08-02 18:41:50</td>\n      <td>0.7868</td>\n    </tr>\n    <tr>\n      <th>2</th>\n      <td>379265</td>\n      <td>40004</td>\n      <td>121157</td>\n      <td>1</td>\n      <td>34591</td>\n      <td>41363</td>\n      <td>40080</td>\n      <td>162107</td>\n      <td>252522</td>\n      <td>metavision</td>\n      <td>MICU</td>\n      <td>MICU</td>\n      <td>23</td>\n      <td>23</td>\n      <td>2106-05-31 16:43:46</td>\n      <td>2106-06-05 13:18:50</td>\n      <td>4.8577</td>\n    </tr>\n    <tr>\n      <th>3</th>\n      <td>379265</td>\n      <td>40004</td>\n      <td>121157</td>\n      <td>1</td>\n      <td>34591</td>\n      <td>41365</td>\n      <td>40084</td>\n      <td>195762</td>\n      <td>264630</td>\n      <td>metavision</td>\n      <td>TSICU</td>\n      <td>TSICU</td>\n      <td>14</td>\n      <td>14</td>\n      <td>2173-01-31 22:11:54</td>\n      <td>2173-02-05 04:13:20</td>\n      <td>4.2510</td>\n    </tr>\n    <tr>\n      <th>4</th>\n      <td>379265</td>\n      <td>40004</td>\n      <td>121157</td>\n      <td>1</td>\n      <td>34591</td>\n      <td>41373</td>\n      <td>40116</td>\n      <td>157106</td>\n      <td>232646</td>\n      <td>metavision</td>\n      <td>MICU</td>\n      <td>MICU</td>\n      <td>23</td>\n      <td>23</td>\n      <td>2150-02-19 00:14:33</td>\n      <td>2150-02-25 17:03:04</td>\n      <td>6.7004</td>\n    </tr>\n  </tbody>\n</table>\n</div>"
     },
     "metadata": {},
     "execution_count": 6
    }
   ],
   "source": [
    "# To print dataframe head\n",
    "df.head()"
   ]
  },
  {
   "cell_type": "code",
   "execution_count": 18,
   "metadata": {},
   "outputs": [
    {
     "output_type": "execute_result",
     "data": {
      "text/plain": [
       "    ROW_ID  SUBJECT_ID  HADM_ID            CHARTDATE            CHARTTIME  \\\n",
       "13  268050       40161   180396  2181-10-24 00:00:00  2181-10-24 18:10:00   \n",
       "16  268847       40161   180396  2181-11-23 00:00:00  2181-11-23 23:47:00   \n",
       "17  268848       40161   180396  2181-11-23 00:00:00  2181-11-23 23:47:00   \n",
       "18  268849       40161   180396  2181-11-23 00:00:00  2181-11-23 23:47:00   \n",
       "19  268850       40161   180396  2181-11-23 00:00:00  2181-11-23 23:47:00   \n",
       "20  268851       40161   180396  2181-11-23 00:00:00  2181-11-23 23:47:00   \n",
       "21  268852       40161   180396  2181-11-23 00:00:00  2181-11-23 23:47:00   \n",
       "22  268853       40161   180396  2181-11-23 00:00:00  2181-11-23 23:47:00   \n",
       "23  268854       40161   180396  2181-11-23 00:00:00  2181-11-23 23:47:00   \n",
       "24  268855       40161   180396  2181-11-23 00:00:00  2181-11-23 23:47:00   \n",
       "76  268557       40161   180396  2181-11-23 00:00:00  2181-11-23 23:47:00   \n",
       "77  268558       40161   180396  2181-11-23 00:00:00  2181-11-23 23:47:00   \n",
       "90  315552       40004   121157  2171-03-04 00:00:00  2171-03-04 21:12:00   \n",
       "\n",
       "    SPEC_ITEMID SPEC_TYPE_DESC  ORG_ITEMID  \\\n",
       "13        70012  BLOOD CULTURE       80238   \n",
       "16        70012  BLOOD CULTURE       80005   \n",
       "17        70012  BLOOD CULTURE       80005   \n",
       "18        70012  BLOOD CULTURE       80005   \n",
       "19        70012  BLOOD CULTURE       80005   \n",
       "20        70012  BLOOD CULTURE       80005   \n",
       "21        70012  BLOOD CULTURE       80005   \n",
       "22        70012  BLOOD CULTURE       80005   \n",
       "23        70012  BLOOD CULTURE       80005   \n",
       "24        70012  BLOOD CULTURE       80005   \n",
       "76        70012  BLOOD CULTURE       80005   \n",
       "77        70012  BLOOD CULTURE       80005   \n",
       "90        70012  BLOOD CULTURE       80155   \n",
       "\n",
       "                                             ORG_NAME  ISOLATE_NUM  AB_ITEMID  \\\n",
       "13  CLOSTRIDIUM SPECIES NOT C. PERFRINGENS OR C. S...            1        NaN   \n",
       "16                                 KLEBSIELLA OXYTOCA            1    90012.0   \n",
       "17                                 KLEBSIELLA OXYTOCA            1    90013.0   \n",
       "18                                 KLEBSIELLA OXYTOCA            1    90017.0   \n",
       "19                                 KLEBSIELLA OXYTOCA            1    90018.0   \n",
       "20                                 KLEBSIELLA OXYTOCA            1    90019.0   \n",
       "21                                 KLEBSIELLA OXYTOCA            1    90022.0   \n",
       "22                                 KLEBSIELLA OXYTOCA            1    90026.0   \n",
       "23                                 KLEBSIELLA OXYTOCA            1    90028.0   \n",
       "24                                 KLEBSIELLA OXYTOCA            1    90005.0   \n",
       "76                                 KLEBSIELLA OXYTOCA            1    90008.0   \n",
       "77                                 KLEBSIELLA OXYTOCA            1    90029.0   \n",
       "90                 STAPHYLOCOCCUS, COAGULASE NEGATIVE            1        NaN   \n",
       "\n",
       "                 AB_NAME DILUTION_TEXT DILUTION_COMPARISON  DILUTION_VALUE  \\\n",
       "13                                                                     NaN   \n",
       "16            GENTAMICIN           <=1                  <=             1.0   \n",
       "17            TOBRAMYCIN           <=1                  <=             1.0   \n",
       "18           CEFTAZIDIME           <=1                  <=             1.0   \n",
       "19           CEFTRIAXONE           <=1                  <=             1.0   \n",
       "20         CIPROFLOXACIN        <=0.25                  <=             0.0   \n",
       "21  AMPICILLIN/SULBACTAM          =>32                  =>            32.0   \n",
       "22     PIPERACILLIN/TAZO         =>128                  =>           128.0   \n",
       "23              CEFEPIME           <=1                  <=             1.0   \n",
       "24             CEFAZOLIN          =>64                  =>            64.0   \n",
       "76    TRIMETHOPRIM/SULFA           <=1                  <=             1.0   \n",
       "77             MEROPENEM        <=0.25                  <=             0.0   \n",
       "90                                                                     NaN   \n",
       "\n",
       "   INTERPRETATION  \n",
       "13                 \n",
       "16              S  \n",
       "17              S  \n",
       "18              S  \n",
       "19              S  \n",
       "20              S  \n",
       "21              R  \n",
       "22              R  \n",
       "23              S  \n",
       "24              R  \n",
       "76              S  \n",
       "77              S  \n",
       "90                 "
      ],
      "text/html": "<div>\n<style scoped>\n    .dataframe tbody tr th:only-of-type {\n        vertical-align: middle;\n    }\n\n    .dataframe tbody tr th {\n        vertical-align: top;\n    }\n\n    .dataframe thead th {\n        text-align: right;\n    }\n</style>\n<table border=\"1\" class=\"dataframe\">\n  <thead>\n    <tr style=\"text-align: right;\">\n      <th></th>\n      <th>ROW_ID</th>\n      <th>SUBJECT_ID</th>\n      <th>HADM_ID</th>\n      <th>CHARTDATE</th>\n      <th>CHARTTIME</th>\n      <th>SPEC_ITEMID</th>\n      <th>SPEC_TYPE_DESC</th>\n      <th>ORG_ITEMID</th>\n      <th>ORG_NAME</th>\n      <th>ISOLATE_NUM</th>\n      <th>AB_ITEMID</th>\n      <th>AB_NAME</th>\n      <th>DILUTION_TEXT</th>\n      <th>DILUTION_COMPARISON</th>\n      <th>DILUTION_VALUE</th>\n      <th>INTERPRETATION</th>\n    </tr>\n  </thead>\n  <tbody>\n    <tr>\n      <th>13</th>\n      <td>268050</td>\n      <td>40161</td>\n      <td>180396</td>\n      <td>2181-10-24 00:00:00</td>\n      <td>2181-10-24 18:10:00</td>\n      <td>70012</td>\n      <td>BLOOD CULTURE</td>\n      <td>80238</td>\n      <td>CLOSTRIDIUM SPECIES NOT C. PERFRINGENS OR C. S...</td>\n      <td>1</td>\n      <td>NaN</td>\n      <td></td>\n      <td></td>\n      <td></td>\n      <td>NaN</td>\n      <td></td>\n    </tr>\n    <tr>\n      <th>16</th>\n      <td>268847</td>\n      <td>40161</td>\n      <td>180396</td>\n      <td>2181-11-23 00:00:00</td>\n      <td>2181-11-23 23:47:00</td>\n      <td>70012</td>\n      <td>BLOOD CULTURE</td>\n      <td>80005</td>\n      <td>KLEBSIELLA OXYTOCA</td>\n      <td>1</td>\n      <td>90012.0</td>\n      <td>GENTAMICIN</td>\n      <td>&lt;=1</td>\n      <td>&lt;=</td>\n      <td>1.0</td>\n      <td>S</td>\n    </tr>\n    <tr>\n      <th>17</th>\n      <td>268848</td>\n      <td>40161</td>\n      <td>180396</td>\n      <td>2181-11-23 00:00:00</td>\n      <td>2181-11-23 23:47:00</td>\n      <td>70012</td>\n      <td>BLOOD CULTURE</td>\n      <td>80005</td>\n      <td>KLEBSIELLA OXYTOCA</td>\n      <td>1</td>\n      <td>90013.0</td>\n      <td>TOBRAMYCIN</td>\n      <td>&lt;=1</td>\n      <td>&lt;=</td>\n      <td>1.0</td>\n      <td>S</td>\n    </tr>\n    <tr>\n      <th>18</th>\n      <td>268849</td>\n      <td>40161</td>\n      <td>180396</td>\n      <td>2181-11-23 00:00:00</td>\n      <td>2181-11-23 23:47:00</td>\n      <td>70012</td>\n      <td>BLOOD CULTURE</td>\n      <td>80005</td>\n      <td>KLEBSIELLA OXYTOCA</td>\n      <td>1</td>\n      <td>90017.0</td>\n      <td>CEFTAZIDIME</td>\n      <td>&lt;=1</td>\n      <td>&lt;=</td>\n      <td>1.0</td>\n      <td>S</td>\n    </tr>\n    <tr>\n      <th>19</th>\n      <td>268850</td>\n      <td>40161</td>\n      <td>180396</td>\n      <td>2181-11-23 00:00:00</td>\n      <td>2181-11-23 23:47:00</td>\n      <td>70012</td>\n      <td>BLOOD CULTURE</td>\n      <td>80005</td>\n      <td>KLEBSIELLA OXYTOCA</td>\n      <td>1</td>\n      <td>90018.0</td>\n      <td>CEFTRIAXONE</td>\n      <td>&lt;=1</td>\n      <td>&lt;=</td>\n      <td>1.0</td>\n      <td>S</td>\n    </tr>\n    <tr>\n      <th>20</th>\n      <td>268851</td>\n      <td>40161</td>\n      <td>180396</td>\n      <td>2181-11-23 00:00:00</td>\n      <td>2181-11-23 23:47:00</td>\n      <td>70012</td>\n      <td>BLOOD CULTURE</td>\n      <td>80005</td>\n      <td>KLEBSIELLA OXYTOCA</td>\n      <td>1</td>\n      <td>90019.0</td>\n      <td>CIPROFLOXACIN</td>\n      <td>&lt;=0.25</td>\n      <td>&lt;=</td>\n      <td>0.0</td>\n      <td>S</td>\n    </tr>\n    <tr>\n      <th>21</th>\n      <td>268852</td>\n      <td>40161</td>\n      <td>180396</td>\n      <td>2181-11-23 00:00:00</td>\n      <td>2181-11-23 23:47:00</td>\n      <td>70012</td>\n      <td>BLOOD CULTURE</td>\n      <td>80005</td>\n      <td>KLEBSIELLA OXYTOCA</td>\n      <td>1</td>\n      <td>90022.0</td>\n      <td>AMPICILLIN/SULBACTAM</td>\n      <td>=&gt;32</td>\n      <td>=&gt;</td>\n      <td>32.0</td>\n      <td>R</td>\n    </tr>\n    <tr>\n      <th>22</th>\n      <td>268853</td>\n      <td>40161</td>\n      <td>180396</td>\n      <td>2181-11-23 00:00:00</td>\n      <td>2181-11-23 23:47:00</td>\n      <td>70012</td>\n      <td>BLOOD CULTURE</td>\n      <td>80005</td>\n      <td>KLEBSIELLA OXYTOCA</td>\n      <td>1</td>\n      <td>90026.0</td>\n      <td>PIPERACILLIN/TAZO</td>\n      <td>=&gt;128</td>\n      <td>=&gt;</td>\n      <td>128.0</td>\n      <td>R</td>\n    </tr>\n    <tr>\n      <th>23</th>\n      <td>268854</td>\n      <td>40161</td>\n      <td>180396</td>\n      <td>2181-11-23 00:00:00</td>\n      <td>2181-11-23 23:47:00</td>\n      <td>70012</td>\n      <td>BLOOD CULTURE</td>\n      <td>80005</td>\n      <td>KLEBSIELLA OXYTOCA</td>\n      <td>1</td>\n      <td>90028.0</td>\n      <td>CEFEPIME</td>\n      <td>&lt;=1</td>\n      <td>&lt;=</td>\n      <td>1.0</td>\n      <td>S</td>\n    </tr>\n    <tr>\n      <th>24</th>\n      <td>268855</td>\n      <td>40161</td>\n      <td>180396</td>\n      <td>2181-11-23 00:00:00</td>\n      <td>2181-11-23 23:47:00</td>\n      <td>70012</td>\n      <td>BLOOD CULTURE</td>\n      <td>80005</td>\n      <td>KLEBSIELLA OXYTOCA</td>\n      <td>1</td>\n      <td>90005.0</td>\n      <td>CEFAZOLIN</td>\n      <td>=&gt;64</td>\n      <td>=&gt;</td>\n      <td>64.0</td>\n      <td>R</td>\n    </tr>\n    <tr>\n      <th>76</th>\n      <td>268557</td>\n      <td>40161</td>\n      <td>180396</td>\n      <td>2181-11-23 00:00:00</td>\n      <td>2181-11-23 23:47:00</td>\n      <td>70012</td>\n      <td>BLOOD CULTURE</td>\n      <td>80005</td>\n      <td>KLEBSIELLA OXYTOCA</td>\n      <td>1</td>\n      <td>90008.0</td>\n      <td>TRIMETHOPRIM/SULFA</td>\n      <td>&lt;=1</td>\n      <td>&lt;=</td>\n      <td>1.0</td>\n      <td>S</td>\n    </tr>\n    <tr>\n      <th>77</th>\n      <td>268558</td>\n      <td>40161</td>\n      <td>180396</td>\n      <td>2181-11-23 00:00:00</td>\n      <td>2181-11-23 23:47:00</td>\n      <td>70012</td>\n      <td>BLOOD CULTURE</td>\n      <td>80005</td>\n      <td>KLEBSIELLA OXYTOCA</td>\n      <td>1</td>\n      <td>90029.0</td>\n      <td>MEROPENEM</td>\n      <td>&lt;=0.25</td>\n      <td>&lt;=</td>\n      <td>0.0</td>\n      <td>S</td>\n    </tr>\n    <tr>\n      <th>90</th>\n      <td>315552</td>\n      <td>40004</td>\n      <td>121157</td>\n      <td>2171-03-04 00:00:00</td>\n      <td>2171-03-04 21:12:00</td>\n      <td>70012</td>\n      <td>BLOOD CULTURE</td>\n      <td>80155</td>\n      <td>STAPHYLOCOCCUS, COAGULASE NEGATIVE</td>\n      <td>1</td>\n      <td>NaN</td>\n      <td></td>\n      <td></td>\n      <td></td>\n      <td>NaN</td>\n      <td></td>\n    </tr>\n  </tbody>\n</table>\n</div>"
     },
     "metadata": {},
     "execution_count": 18
    }
   ],
   "source": [
    "#display only the microbiology_events information for which a blood culture was performed.\n",
    "df_micro = pd.read_sql_query(\"\"\" SELECT * FROM 'MICROBIOLOGYEVENTS'\"\"\",con) #returns dataframe\n",
    "bloodcult = df_micro[df_micro['SPEC_TYPE_DESC'] == 'BLOOD CULTURE']\n",
    "bloodcult"
   ]
  },
  {
   "cell_type": "code",
   "execution_count": 19,
   "metadata": {},
   "outputs": [
    {
     "output_type": "stream",
     "name": "stdout",
     "text": [
      "There are 13 microbiology events on which a blood culture was performed\n"
     ]
    }
   ],
   "source": [
    "print(f\"There are {bloodcult.shape[0]} microbiology events on which a blood culture was performed\")"
   ]
  },
  {
   "cell_type": "code",
   "execution_count": 20,
   "metadata": {},
   "outputs": [
    {
     "output_type": "execute_result",
     "data": {
      "text/plain": [
       "    ROW_ID  SUBJECT_ID  HADM_ID            CHARTDATE            CHARTTIME  \\\n",
       "1   268038       40161   180396  2181-10-24 00:00:00  2181-10-24 18:26:00   \n",
       "2   268039       40161   180396  2181-10-24 00:00:00  2181-10-24 18:26:00   \n",
       "3   268040       40161   180396  2181-10-24 00:00:00  2181-10-24 18:26:00   \n",
       "4   268041       40161   180396  2181-10-24 00:00:00  2181-10-24 18:26:00   \n",
       "5   268042       40161   180396  2181-10-24 00:00:00  2181-10-24 18:26:00   \n",
       "6   268043       40161   180396  2181-10-24 00:00:00  2181-10-24 18:26:00   \n",
       "7   268044       40161   180396  2181-10-24 00:00:00  2181-10-24 18:26:00   \n",
       "8   268045       40161   180396  2181-10-24 00:00:00  2181-10-24 18:26:00   \n",
       "9   268046       40161   180396  2181-10-24 00:00:00  2181-10-24 18:26:00   \n",
       "10  268047       40161   180396  2181-10-24 00:00:00  2181-10-24 18:26:00   \n",
       "11  268048       40161   180396  2181-10-24 00:00:00  2181-10-24 18:26:00   \n",
       "12  268049       40161   180396  2181-10-24 00:00:00  2181-10-24 18:26:00   \n",
       "\n",
       "    SPEC_ITEMID SPEC_TYPE_DESC  ORG_ITEMID          ORG_NAME  ISOLATE_NUM  \\\n",
       "1         70079          URINE       80002  ESCHERICHIA COLI            1   \n",
       "2         70079          URINE       80002  ESCHERICHIA COLI            1   \n",
       "3         70079          URINE       80002  ESCHERICHIA COLI            1   \n",
       "4         70079          URINE       80002  ESCHERICHIA COLI            1   \n",
       "5         70079          URINE       80002  ESCHERICHIA COLI            1   \n",
       "6         70079          URINE       80002  ESCHERICHIA COLI            1   \n",
       "7         70079          URINE       80002  ESCHERICHIA COLI            1   \n",
       "8         70079          URINE       80002  ESCHERICHIA COLI            1   \n",
       "9         70079          URINE       80002  ESCHERICHIA COLI            1   \n",
       "10        70079          URINE       80002  ESCHERICHIA COLI            1   \n",
       "11        70079          URINE       80002  ESCHERICHIA COLI            1   \n",
       "12        70079          URINE       80002  ESCHERICHIA COLI            1   \n",
       "\n",
       "    AB_ITEMID               AB_NAME DILUTION_TEXT DILUTION_COMPARISON  \\\n",
       "1     90012.0            GENTAMICIN           <=1                  <=   \n",
       "2     90029.0             MEROPENEM        <=0.25                  <=   \n",
       "3     90028.0              CEFEPIME           <=1                  <=   \n",
       "4     90022.0  AMPICILLIN/SULBACTAM             4                   =   \n",
       "5     90019.0         CIPROFLOXACIN        <=0.25                  <=   \n",
       "6     90018.0           CEFTRIAXONE           <=1                  <=   \n",
       "7     90013.0            TOBRAMYCIN           <=1                  <=   \n",
       "8     90010.0        NITROFURANTOIN            32                   =   \n",
       "9     90008.0    TRIMETHOPRIM/SULFA           <=1                  <=   \n",
       "10    90005.0             CEFAZOLIN           <=4                  <=   \n",
       "11    90004.0            AMPICILLIN             8                   =   \n",
       "12    90017.0           CEFTAZIDIME           <=1                  <=   \n",
       "\n",
       "    DILUTION_VALUE INTERPRETATION  \n",
       "1              1.0              S  \n",
       "2              0.0              S  \n",
       "3              1.0              S  \n",
       "4              4.0              S  \n",
       "5              0.0              S  \n",
       "6              1.0              S  \n",
       "7              1.0              S  \n",
       "8             32.0              S  \n",
       "9              1.0              S  \n",
       "10             4.0              S  \n",
       "11             8.0              S  \n",
       "12             1.0              S  "
      ],
      "text/html": "<div>\n<style scoped>\n    .dataframe tbody tr th:only-of-type {\n        vertical-align: middle;\n    }\n\n    .dataframe tbody tr th {\n        vertical-align: top;\n    }\n\n    .dataframe thead th {\n        text-align: right;\n    }\n</style>\n<table border=\"1\" class=\"dataframe\">\n  <thead>\n    <tr style=\"text-align: right;\">\n      <th></th>\n      <th>ROW_ID</th>\n      <th>SUBJECT_ID</th>\n      <th>HADM_ID</th>\n      <th>CHARTDATE</th>\n      <th>CHARTTIME</th>\n      <th>SPEC_ITEMID</th>\n      <th>SPEC_TYPE_DESC</th>\n      <th>ORG_ITEMID</th>\n      <th>ORG_NAME</th>\n      <th>ISOLATE_NUM</th>\n      <th>AB_ITEMID</th>\n      <th>AB_NAME</th>\n      <th>DILUTION_TEXT</th>\n      <th>DILUTION_COMPARISON</th>\n      <th>DILUTION_VALUE</th>\n      <th>INTERPRETATION</th>\n    </tr>\n  </thead>\n  <tbody>\n    <tr>\n      <th>1</th>\n      <td>268038</td>\n      <td>40161</td>\n      <td>180396</td>\n      <td>2181-10-24 00:00:00</td>\n      <td>2181-10-24 18:26:00</td>\n      <td>70079</td>\n      <td>URINE</td>\n      <td>80002</td>\n      <td>ESCHERICHIA COLI</td>\n      <td>1</td>\n      <td>90012.0</td>\n      <td>GENTAMICIN</td>\n      <td>&lt;=1</td>\n      <td>&lt;=</td>\n      <td>1.0</td>\n      <td>S</td>\n    </tr>\n    <tr>\n      <th>2</th>\n      <td>268039</td>\n      <td>40161</td>\n      <td>180396</td>\n      <td>2181-10-24 00:00:00</td>\n      <td>2181-10-24 18:26:00</td>\n      <td>70079</td>\n      <td>URINE</td>\n      <td>80002</td>\n      <td>ESCHERICHIA COLI</td>\n      <td>1</td>\n      <td>90029.0</td>\n      <td>MEROPENEM</td>\n      <td>&lt;=0.25</td>\n      <td>&lt;=</td>\n      <td>0.0</td>\n      <td>S</td>\n    </tr>\n    <tr>\n      <th>3</th>\n      <td>268040</td>\n      <td>40161</td>\n      <td>180396</td>\n      <td>2181-10-24 00:00:00</td>\n      <td>2181-10-24 18:26:00</td>\n      <td>70079</td>\n      <td>URINE</td>\n      <td>80002</td>\n      <td>ESCHERICHIA COLI</td>\n      <td>1</td>\n      <td>90028.0</td>\n      <td>CEFEPIME</td>\n      <td>&lt;=1</td>\n      <td>&lt;=</td>\n      <td>1.0</td>\n      <td>S</td>\n    </tr>\n    <tr>\n      <th>4</th>\n      <td>268041</td>\n      <td>40161</td>\n      <td>180396</td>\n      <td>2181-10-24 00:00:00</td>\n      <td>2181-10-24 18:26:00</td>\n      <td>70079</td>\n      <td>URINE</td>\n      <td>80002</td>\n      <td>ESCHERICHIA COLI</td>\n      <td>1</td>\n      <td>90022.0</td>\n      <td>AMPICILLIN/SULBACTAM</td>\n      <td>4</td>\n      <td>=</td>\n      <td>4.0</td>\n      <td>S</td>\n    </tr>\n    <tr>\n      <th>5</th>\n      <td>268042</td>\n      <td>40161</td>\n      <td>180396</td>\n      <td>2181-10-24 00:00:00</td>\n      <td>2181-10-24 18:26:00</td>\n      <td>70079</td>\n      <td>URINE</td>\n      <td>80002</td>\n      <td>ESCHERICHIA COLI</td>\n      <td>1</td>\n      <td>90019.0</td>\n      <td>CIPROFLOXACIN</td>\n      <td>&lt;=0.25</td>\n      <td>&lt;=</td>\n      <td>0.0</td>\n      <td>S</td>\n    </tr>\n    <tr>\n      <th>6</th>\n      <td>268043</td>\n      <td>40161</td>\n      <td>180396</td>\n      <td>2181-10-24 00:00:00</td>\n      <td>2181-10-24 18:26:00</td>\n      <td>70079</td>\n      <td>URINE</td>\n      <td>80002</td>\n      <td>ESCHERICHIA COLI</td>\n      <td>1</td>\n      <td>90018.0</td>\n      <td>CEFTRIAXONE</td>\n      <td>&lt;=1</td>\n      <td>&lt;=</td>\n      <td>1.0</td>\n      <td>S</td>\n    </tr>\n    <tr>\n      <th>7</th>\n      <td>268044</td>\n      <td>40161</td>\n      <td>180396</td>\n      <td>2181-10-24 00:00:00</td>\n      <td>2181-10-24 18:26:00</td>\n      <td>70079</td>\n      <td>URINE</td>\n      <td>80002</td>\n      <td>ESCHERICHIA COLI</td>\n      <td>1</td>\n      <td>90013.0</td>\n      <td>TOBRAMYCIN</td>\n      <td>&lt;=1</td>\n      <td>&lt;=</td>\n      <td>1.0</td>\n      <td>S</td>\n    </tr>\n    <tr>\n      <th>8</th>\n      <td>268045</td>\n      <td>40161</td>\n      <td>180396</td>\n      <td>2181-10-24 00:00:00</td>\n      <td>2181-10-24 18:26:00</td>\n      <td>70079</td>\n      <td>URINE</td>\n      <td>80002</td>\n      <td>ESCHERICHIA COLI</td>\n      <td>1</td>\n      <td>90010.0</td>\n      <td>NITROFURANTOIN</td>\n      <td>32</td>\n      <td>=</td>\n      <td>32.0</td>\n      <td>S</td>\n    </tr>\n    <tr>\n      <th>9</th>\n      <td>268046</td>\n      <td>40161</td>\n      <td>180396</td>\n      <td>2181-10-24 00:00:00</td>\n      <td>2181-10-24 18:26:00</td>\n      <td>70079</td>\n      <td>URINE</td>\n      <td>80002</td>\n      <td>ESCHERICHIA COLI</td>\n      <td>1</td>\n      <td>90008.0</td>\n      <td>TRIMETHOPRIM/SULFA</td>\n      <td>&lt;=1</td>\n      <td>&lt;=</td>\n      <td>1.0</td>\n      <td>S</td>\n    </tr>\n    <tr>\n      <th>10</th>\n      <td>268047</td>\n      <td>40161</td>\n      <td>180396</td>\n      <td>2181-10-24 00:00:00</td>\n      <td>2181-10-24 18:26:00</td>\n      <td>70079</td>\n      <td>URINE</td>\n      <td>80002</td>\n      <td>ESCHERICHIA COLI</td>\n      <td>1</td>\n      <td>90005.0</td>\n      <td>CEFAZOLIN</td>\n      <td>&lt;=4</td>\n      <td>&lt;=</td>\n      <td>4.0</td>\n      <td>S</td>\n    </tr>\n    <tr>\n      <th>11</th>\n      <td>268048</td>\n      <td>40161</td>\n      <td>180396</td>\n      <td>2181-10-24 00:00:00</td>\n      <td>2181-10-24 18:26:00</td>\n      <td>70079</td>\n      <td>URINE</td>\n      <td>80002</td>\n      <td>ESCHERICHIA COLI</td>\n      <td>1</td>\n      <td>90004.0</td>\n      <td>AMPICILLIN</td>\n      <td>8</td>\n      <td>=</td>\n      <td>8.0</td>\n      <td>S</td>\n    </tr>\n    <tr>\n      <th>12</th>\n      <td>268049</td>\n      <td>40161</td>\n      <td>180396</td>\n      <td>2181-10-24 00:00:00</td>\n      <td>2181-10-24 18:26:00</td>\n      <td>70079</td>\n      <td>URINE</td>\n      <td>80002</td>\n      <td>ESCHERICHIA COLI</td>\n      <td>1</td>\n      <td>90017.0</td>\n      <td>CEFTAZIDIME</td>\n      <td>&lt;=1</td>\n      <td>&lt;=</td>\n      <td>1.0</td>\n      <td>S</td>\n    </tr>\n  </tbody>\n</table>\n</div>"
     },
     "metadata": {},
     "execution_count": 20
    }
   ],
   "source": [
    "#display the number of urine specimen tested for bacterial growth.\n",
    "urinecult = df_micro[df_micro['SPEC_TYPE_DESC'] == 'URINE']\n",
    "urinecult"
   ]
  },
  {
   "cell_type": "code",
   "execution_count": 21,
   "metadata": {},
   "outputs": [
    {
     "output_type": "stream",
     "name": "stdout",
     "text": [
      "There are 12 microbiology events on which a blood culture was performed\n"
     ]
    }
   ],
   "source": [
    "print(f\"There are {urinecult.shape[0]} microbiology events on which a blood culture was performed\")"
   ]
  },
  {
   "cell_type": "code",
   "execution_count": 23,
   "metadata": {},
   "outputs": [
    {
     "output_type": "execute_result",
     "data": {
      "text/plain": [
       "                       DRUG\n",
       "0                FoLIC Acid\n",
       "1             Multivitamins\n",
       "2                Carvedilol\n",
       "3            Cyanocobalamin\n",
       "4                Lisinopril\n",
       "..                      ...\n",
       "174           Mannitol 20 %\n",
       "175  Cisatracurium Besylate\n",
       "176              Gentamicin\n",
       "177        Ciprofloxacin IV\n",
       "178          NORepinephrine\n",
       "\n",
       "[179 rows x 1 columns]"
      ],
      "text/html": "<div>\n<style scoped>\n    .dataframe tbody tr th:only-of-type {\n        vertical-align: middle;\n    }\n\n    .dataframe tbody tr th {\n        vertical-align: top;\n    }\n\n    .dataframe thead th {\n        text-align: right;\n    }\n</style>\n<table border=\"1\" class=\"dataframe\">\n  <thead>\n    <tr style=\"text-align: right;\">\n      <th></th>\n      <th>DRUG</th>\n    </tr>\n  </thead>\n  <tbody>\n    <tr>\n      <th>0</th>\n      <td>FoLIC Acid</td>\n    </tr>\n    <tr>\n      <th>1</th>\n      <td>Multivitamins</td>\n    </tr>\n    <tr>\n      <th>2</th>\n      <td>Carvedilol</td>\n    </tr>\n    <tr>\n      <th>3</th>\n      <td>Cyanocobalamin</td>\n    </tr>\n    <tr>\n      <th>4</th>\n      <td>Lisinopril</td>\n    </tr>\n    <tr>\n      <th>...</th>\n      <td>...</td>\n    </tr>\n    <tr>\n      <th>174</th>\n      <td>Mannitol 20 %</td>\n    </tr>\n    <tr>\n      <th>175</th>\n      <td>Cisatracurium Besylate</td>\n    </tr>\n    <tr>\n      <th>176</th>\n      <td>Gentamicin</td>\n    </tr>\n    <tr>\n      <th>177</th>\n      <td>Ciprofloxacin IV</td>\n    </tr>\n    <tr>\n      <th>178</th>\n      <td>NORepinephrine</td>\n    </tr>\n  </tbody>\n</table>\n<p>179 rows × 1 columns</p>\n</div>"
     },
     "metadata": {},
     "execution_count": 23
    }
   ],
   "source": [
    "#display all the distinct drug values (from prescription table) used among all the records present.\n",
    "drugs=pd.read_sql_query(\"\"\" SELECT DISTINCT DRUG FROM 'PRESCRIPTIONS'\"\"\",con)\n",
    "drugs"
   ]
  },
  {
   "cell_type": "code",
   "execution_count": 24,
   "metadata": {},
   "outputs": [
    {
     "output_type": "stream",
     "name": "stdout",
     "text": [
      "10 patients have been admitted, as seen below\n20 patients have been transferred, as seen below\n10 patients have been discharged, as seen below\ntotal number of patients: 40\n"
     ]
    }
   ],
   "source": [
    "#considering the information available at transfers table, find out the numbers of patients admitted; transfered or discharged from the hospital.\n",
    "# df_transfers = pd.read_sql_query(\"SELECT DISTINCT EVENTTYPE FROM 'TRANSFERS'\",connection)\n",
    "# df_transfers.head()\n",
    "# #these shows us there are 3 distinct eventtypes \n",
    "\n",
    "print(\"10 patients have been admitted, as seen below\")\n",
    "print(\"20 patients have been transferred, as seen below\")\n",
    "print(\"10 patients have been discharged, as seen below\")\n",
    "\n",
    "#we can check this by seeing that there are 40 rows total:\n",
    "rows = pd.read_sql_query(\"SELECT * FROM 'TRANSFERS'\",con).shape[0]\n",
    "print(f\"total number of patients: {rows}\")"
   ]
  },
  {
   "cell_type": "code",
   "execution_count": 26,
   "metadata": {},
   "outputs": [
    {
     "output_type": "execute_result",
     "data": {
      "text/plain": [
       "   COUNT(*)\n",
       "0        10"
      ],
      "text/html": "<div>\n<style scoped>\n    .dataframe tbody tr th:only-of-type {\n        vertical-align: middle;\n    }\n\n    .dataframe tbody tr th {\n        vertical-align: top;\n    }\n\n    .dataframe thead th {\n        text-align: right;\n    }\n</style>\n<table border=\"1\" class=\"dataframe\">\n  <thead>\n    <tr style=\"text-align: right;\">\n      <th></th>\n      <th>COUNT(*)</th>\n    </tr>\n  </thead>\n  <tbody>\n    <tr>\n      <th>0</th>\n      <td>10</td>\n    </tr>\n  </tbody>\n</table>\n</div>"
     },
     "metadata": {},
     "execution_count": 26
    }
   ],
   "source": [
    "#admissions:\n",
    "pd.read_sql_query(\"SELECT COUNT(*) FROM 'TRANSFERS' WHERE EVENTTYPE = 'admit'\",con)"
   ]
  },
  {
   "cell_type": "code",
   "execution_count": 27,
   "metadata": {},
   "outputs": [
    {
     "output_type": "execute_result",
     "data": {
      "text/plain": [
       "   COUNT(*)\n",
       "0        20"
      ],
      "text/html": "<div>\n<style scoped>\n    .dataframe tbody tr th:only-of-type {\n        vertical-align: middle;\n    }\n\n    .dataframe tbody tr th {\n        vertical-align: top;\n    }\n\n    .dataframe thead th {\n        text-align: right;\n    }\n</style>\n<table border=\"1\" class=\"dataframe\">\n  <thead>\n    <tr style=\"text-align: right;\">\n      <th></th>\n      <th>COUNT(*)</th>\n    </tr>\n  </thead>\n  <tbody>\n    <tr>\n      <th>0</th>\n      <td>20</td>\n    </tr>\n  </tbody>\n</table>\n</div>"
     },
     "metadata": {},
     "execution_count": 27
    }
   ],
   "source": [
    "#transfers:\n",
    "pd.read_sql_query(\"SELECT COUNT(*) FROM 'TRANSFERS' WHERE EVENTTYPE = 'transfer'\",con)"
   ]
  },
  {
   "cell_type": "code",
   "execution_count": 29,
   "metadata": {},
   "outputs": [
    {
     "output_type": "execute_result",
     "data": {
      "text/plain": [
       "   COUNT(*)\n",
       "0        10"
      ],
      "text/html": "<div>\n<style scoped>\n    .dataframe tbody tr th:only-of-type {\n        vertical-align: middle;\n    }\n\n    .dataframe tbody tr th {\n        vertical-align: top;\n    }\n\n    .dataframe thead th {\n        text-align: right;\n    }\n</style>\n<table border=\"1\" class=\"dataframe\">\n  <thead>\n    <tr style=\"text-align: right;\">\n      <th></th>\n      <th>COUNT(*)</th>\n    </tr>\n  </thead>\n  <tbody>\n    <tr>\n      <th>0</th>\n      <td>10</td>\n    </tr>\n  </tbody>\n</table>\n</div>"
     },
     "metadata": {},
     "execution_count": 29
    }
   ],
   "source": [
    "#discharges:\n",
    "pd.read_sql_query(\"SELECT COUNT(*) FROM 'TRANSFERS' WHERE EVENTTYPE = 'discharge'\",con)"
   ]
  },
  {
   "cell_type": "code",
   "execution_count": 30,
   "metadata": {},
   "outputs": [],
   "source": [
    "#display only information for substances whose level of injection was higher than 100 mL (ordered based on the injection value) and caregiver id was 21452 and 21108. \n",
    "\n",
    "# TO BEEE DOOOOOOOOOOOOOOOOOOOOOOOOOOOOOOOOOOOOOOOOOOOOOOOOOOOOOOOOOOOOOOOOOOONNNNNNNNNNNNNNNNEEEEEEEEEEEEEEE"
   ]
  },
  {
   "cell_type": "code",
   "execution_count": 32,
   "metadata": {},
   "outputs": [
    {
     "output_type": "execute_result",
     "data": {
      "text/plain": [
       "  ROW_ID SUBJECT_ID  HADM_ID            ADMITTIME            DISCHTIME  \\\n",
       "0  39793      40036   198489  2141-08-01 23:46:00  2141-08-09 19:15:00   \n",
       "1  39807      40080   162107  2106-05-31 16:43:00  2106-06-05 01:18:00   \n",
       "2  39809      40084   195762  2173-01-31 22:11:00  2173-02-05 01:31:00   \n",
       "3  39817      40116   157106  2150-02-19 00:12:00  2150-03-11 13:58:00   \n",
       "4  39818      40120   146466  2120-01-27 20:41:00  2120-02-12 17:14:00   \n",
       "5  39819      40120   158997  2120-02-21 15:22:00  2120-02-24 07:30:00   \n",
       "6  39821      40124   126179  2130-02-04 02:26:00  2130-02-10 17:39:00   \n",
       "7  39822      40124   146893  2130-08-12 05:49:00  2130-08-18 15:30:00   \n",
       "8  39828      40161   180396  2181-10-24 15:58:00  2181-11-26 17:15:00   \n",
       "9  39785      40004   121157  2171-03-01 17:51:00  2171-03-08 14:26:00   \n",
       "\n",
       "             DEATHTIME ADMISSION_TYPE         ADMISSION_LOCATION  \\\n",
       "0                           EMERGENCY  CLINIC REFERRAL/PREMATURE   \n",
       "1                           EMERGENCY  CLINIC REFERRAL/PREMATURE   \n",
       "2  2173-02-05 01:31:00      EMERGENCY  CLINIC REFERRAL/PREMATURE   \n",
       "3                           EMERGENCY  TRANSFER FROM HOSP/EXTRAM   \n",
       "4                           EMERGENCY       EMERGENCY ROOM ADMIT   \n",
       "5  2120-02-24 07:30:00      EMERGENCY       EMERGENCY ROOM ADMIT   \n",
       "6                           EMERGENCY       EMERGENCY ROOM ADMIT   \n",
       "7                           EMERGENCY       EMERGENCY ROOM ADMIT   \n",
       "8  2181-11-26 17:15:00      EMERGENCY  TRANSFER FROM HOSP/EXTRAM   \n",
       "9                           EMERGENCY  CLINIC REFERRAL/PREMATURE   \n",
       "\n",
       "        DISCHARGE_LOCATION INSURANCE  ... HAS_IOEVENTS_DATA  \\\n",
       "0         HOME HEALTH CARE  Medicare  ...                 1   \n",
       "1                      SNF  Medicaid  ...                 1   \n",
       "2             DEAD/EXPIRED   Private  ...                 1   \n",
       "3      SHORT TERM HOSPITAL  Medicaid  ...                 1   \n",
       "4  LONG TERM CARE HOSPITAL  Medicare  ...                 1   \n",
       "5             DEAD/EXPIRED  Medicare  ...                 1   \n",
       "6                      SNF  Medicare  ...                 1   \n",
       "7                      SNF  Medicare  ...                 1   \n",
       "8             DEAD/EXPIRED  Medicare  ...                 1   \n",
       "9                     HOME  Medicare  ...                 1   \n",
       "\n",
       "  HAS_CHARTEVENTS_DATA ROW_ID SUBJECT_ID GENDER                  DOB  \\\n",
       "0                    1  30810      40036      M  2075-04-25 00:00:00   \n",
       "1                    1  30821      40080      F  2027-08-04 00:00:00   \n",
       "2                    1  30823      40084      M  2149-10-04 00:00:00   \n",
       "3                    1  30828      40116      M  2109-03-21 00:00:00   \n",
       "4                    1  30829      40120      M  2045-04-24 00:00:00   \n",
       "5                    1  30829      40120      M  2045-04-24 00:00:00   \n",
       "6                    1  30831      40124      F  2063-07-05 00:00:00   \n",
       "7                    1  30831      40124      F  2063-07-05 00:00:00   \n",
       "8                    1  30837      40161      M  2097-12-11 00:00:00   \n",
       "9                    1  30802      40004      M  2118-09-11 00:00:00   \n",
       "\n",
       "                   DOD             DOD_HOSP              DOD_SSN  EXPIRE_FLAG  \n",
       "0  2143-09-03 00:00:00  2143-09-03 00:00:00  2143-09-03 00:00:00            1  \n",
       "1  2106-06-14 00:00:00                       2106-06-14 00:00:00            1  \n",
       "2  2173-02-05 00:00:00  2173-02-05 00:00:00  2173-02-05 00:00:00            1  \n",
       "3  2150-09-26 00:00:00                       2150-09-26 00:00:00            1  \n",
       "4  2120-02-24 00:00:00  2120-02-24 00:00:00                                 1  \n",
       "5  2120-02-24 00:00:00  2120-02-24 00:00:00                                 1  \n",
       "6  2130-11-03 00:00:00  2130-11-03 00:00:00  2130-11-03 00:00:00            1  \n",
       "7  2130-11-03 00:00:00  2130-11-03 00:00:00  2130-11-03 00:00:00            1  \n",
       "8  2181-11-26 00:00:00  2181-11-26 00:00:00  2181-11-26 00:00:00            1  \n",
       "9  2172-11-12 00:00:00                       2172-11-12 00:00:00            1  \n",
       "\n",
       "[10 rows x 28 columns]"
      ],
      "text/html": "<div>\n<style scoped>\n    .dataframe tbody tr th:only-of-type {\n        vertical-align: middle;\n    }\n\n    .dataframe tbody tr th {\n        vertical-align: top;\n    }\n\n    .dataframe thead th {\n        text-align: right;\n    }\n</style>\n<table border=\"1\" class=\"dataframe\">\n  <thead>\n    <tr style=\"text-align: right;\">\n      <th></th>\n      <th>ROW_ID</th>\n      <th>SUBJECT_ID</th>\n      <th>HADM_ID</th>\n      <th>ADMITTIME</th>\n      <th>DISCHTIME</th>\n      <th>DEATHTIME</th>\n      <th>ADMISSION_TYPE</th>\n      <th>ADMISSION_LOCATION</th>\n      <th>DISCHARGE_LOCATION</th>\n      <th>INSURANCE</th>\n      <th>...</th>\n      <th>HAS_IOEVENTS_DATA</th>\n      <th>HAS_CHARTEVENTS_DATA</th>\n      <th>ROW_ID</th>\n      <th>SUBJECT_ID</th>\n      <th>GENDER</th>\n      <th>DOB</th>\n      <th>DOD</th>\n      <th>DOD_HOSP</th>\n      <th>DOD_SSN</th>\n      <th>EXPIRE_FLAG</th>\n    </tr>\n  </thead>\n  <tbody>\n    <tr>\n      <th>0</th>\n      <td>39793</td>\n      <td>40036</td>\n      <td>198489</td>\n      <td>2141-08-01 23:46:00</td>\n      <td>2141-08-09 19:15:00</td>\n      <td></td>\n      <td>EMERGENCY</td>\n      <td>CLINIC REFERRAL/PREMATURE</td>\n      <td>HOME HEALTH CARE</td>\n      <td>Medicare</td>\n      <td>...</td>\n      <td>1</td>\n      <td>1</td>\n      <td>30810</td>\n      <td>40036</td>\n      <td>M</td>\n      <td>2075-04-25 00:00:00</td>\n      <td>2143-09-03 00:00:00</td>\n      <td>2143-09-03 00:00:00</td>\n      <td>2143-09-03 00:00:00</td>\n      <td>1</td>\n    </tr>\n    <tr>\n      <th>1</th>\n      <td>39807</td>\n      <td>40080</td>\n      <td>162107</td>\n      <td>2106-05-31 16:43:00</td>\n      <td>2106-06-05 01:18:00</td>\n      <td></td>\n      <td>EMERGENCY</td>\n      <td>CLINIC REFERRAL/PREMATURE</td>\n      <td>SNF</td>\n      <td>Medicaid</td>\n      <td>...</td>\n      <td>1</td>\n      <td>1</td>\n      <td>30821</td>\n      <td>40080</td>\n      <td>F</td>\n      <td>2027-08-04 00:00:00</td>\n      <td>2106-06-14 00:00:00</td>\n      <td></td>\n      <td>2106-06-14 00:00:00</td>\n      <td>1</td>\n    </tr>\n    <tr>\n      <th>2</th>\n      <td>39809</td>\n      <td>40084</td>\n      <td>195762</td>\n      <td>2173-01-31 22:11:00</td>\n      <td>2173-02-05 01:31:00</td>\n      <td>2173-02-05 01:31:00</td>\n      <td>EMERGENCY</td>\n      <td>CLINIC REFERRAL/PREMATURE</td>\n      <td>DEAD/EXPIRED</td>\n      <td>Private</td>\n      <td>...</td>\n      <td>1</td>\n      <td>1</td>\n      <td>30823</td>\n      <td>40084</td>\n      <td>M</td>\n      <td>2149-10-04 00:00:00</td>\n      <td>2173-02-05 00:00:00</td>\n      <td>2173-02-05 00:00:00</td>\n      <td>2173-02-05 00:00:00</td>\n      <td>1</td>\n    </tr>\n    <tr>\n      <th>3</th>\n      <td>39817</td>\n      <td>40116</td>\n      <td>157106</td>\n      <td>2150-02-19 00:12:00</td>\n      <td>2150-03-11 13:58:00</td>\n      <td></td>\n      <td>EMERGENCY</td>\n      <td>TRANSFER FROM HOSP/EXTRAM</td>\n      <td>SHORT TERM HOSPITAL</td>\n      <td>Medicaid</td>\n      <td>...</td>\n      <td>1</td>\n      <td>1</td>\n      <td>30828</td>\n      <td>40116</td>\n      <td>M</td>\n      <td>2109-03-21 00:00:00</td>\n      <td>2150-09-26 00:00:00</td>\n      <td></td>\n      <td>2150-09-26 00:00:00</td>\n      <td>1</td>\n    </tr>\n    <tr>\n      <th>4</th>\n      <td>39818</td>\n      <td>40120</td>\n      <td>146466</td>\n      <td>2120-01-27 20:41:00</td>\n      <td>2120-02-12 17:14:00</td>\n      <td></td>\n      <td>EMERGENCY</td>\n      <td>EMERGENCY ROOM ADMIT</td>\n      <td>LONG TERM CARE HOSPITAL</td>\n      <td>Medicare</td>\n      <td>...</td>\n      <td>1</td>\n      <td>1</td>\n      <td>30829</td>\n      <td>40120</td>\n      <td>M</td>\n      <td>2045-04-24 00:00:00</td>\n      <td>2120-02-24 00:00:00</td>\n      <td>2120-02-24 00:00:00</td>\n      <td></td>\n      <td>1</td>\n    </tr>\n    <tr>\n      <th>5</th>\n      <td>39819</td>\n      <td>40120</td>\n      <td>158997</td>\n      <td>2120-02-21 15:22:00</td>\n      <td>2120-02-24 07:30:00</td>\n      <td>2120-02-24 07:30:00</td>\n      <td>EMERGENCY</td>\n      <td>EMERGENCY ROOM ADMIT</td>\n      <td>DEAD/EXPIRED</td>\n      <td>Medicare</td>\n      <td>...</td>\n      <td>1</td>\n      <td>1</td>\n      <td>30829</td>\n      <td>40120</td>\n      <td>M</td>\n      <td>2045-04-24 00:00:00</td>\n      <td>2120-02-24 00:00:00</td>\n      <td>2120-02-24 00:00:00</td>\n      <td></td>\n      <td>1</td>\n    </tr>\n    <tr>\n      <th>6</th>\n      <td>39821</td>\n      <td>40124</td>\n      <td>126179</td>\n      <td>2130-02-04 02:26:00</td>\n      <td>2130-02-10 17:39:00</td>\n      <td></td>\n      <td>EMERGENCY</td>\n      <td>EMERGENCY ROOM ADMIT</td>\n      <td>SNF</td>\n      <td>Medicare</td>\n      <td>...</td>\n      <td>1</td>\n      <td>1</td>\n      <td>30831</td>\n      <td>40124</td>\n      <td>F</td>\n      <td>2063-07-05 00:00:00</td>\n      <td>2130-11-03 00:00:00</td>\n      <td>2130-11-03 00:00:00</td>\n      <td>2130-11-03 00:00:00</td>\n      <td>1</td>\n    </tr>\n    <tr>\n      <th>7</th>\n      <td>39822</td>\n      <td>40124</td>\n      <td>146893</td>\n      <td>2130-08-12 05:49:00</td>\n      <td>2130-08-18 15:30:00</td>\n      <td></td>\n      <td>EMERGENCY</td>\n      <td>EMERGENCY ROOM ADMIT</td>\n      <td>SNF</td>\n      <td>Medicare</td>\n      <td>...</td>\n      <td>1</td>\n      <td>1</td>\n      <td>30831</td>\n      <td>40124</td>\n      <td>F</td>\n      <td>2063-07-05 00:00:00</td>\n      <td>2130-11-03 00:00:00</td>\n      <td>2130-11-03 00:00:00</td>\n      <td>2130-11-03 00:00:00</td>\n      <td>1</td>\n    </tr>\n    <tr>\n      <th>8</th>\n      <td>39828</td>\n      <td>40161</td>\n      <td>180396</td>\n      <td>2181-10-24 15:58:00</td>\n      <td>2181-11-26 17:15:00</td>\n      <td>2181-11-26 17:15:00</td>\n      <td>EMERGENCY</td>\n      <td>TRANSFER FROM HOSP/EXTRAM</td>\n      <td>DEAD/EXPIRED</td>\n      <td>Medicare</td>\n      <td>...</td>\n      <td>1</td>\n      <td>1</td>\n      <td>30837</td>\n      <td>40161</td>\n      <td>M</td>\n      <td>2097-12-11 00:00:00</td>\n      <td>2181-11-26 00:00:00</td>\n      <td>2181-11-26 00:00:00</td>\n      <td>2181-11-26 00:00:00</td>\n      <td>1</td>\n    </tr>\n    <tr>\n      <th>9</th>\n      <td>39785</td>\n      <td>40004</td>\n      <td>121157</td>\n      <td>2171-03-01 17:51:00</td>\n      <td>2171-03-08 14:26:00</td>\n      <td></td>\n      <td>EMERGENCY</td>\n      <td>CLINIC REFERRAL/PREMATURE</td>\n      <td>HOME</td>\n      <td>Medicare</td>\n      <td>...</td>\n      <td>1</td>\n      <td>1</td>\n      <td>30802</td>\n      <td>40004</td>\n      <td>M</td>\n      <td>2118-09-11 00:00:00</td>\n      <td>2172-11-12 00:00:00</td>\n      <td></td>\n      <td>2172-11-12 00:00:00</td>\n      <td>1</td>\n    </tr>\n  </tbody>\n</table>\n<p>10 rows × 28 columns</p>\n</div>"
     },
     "metadata": {},
     "execution_count": 32
    }
   ],
   "source": [
    "#join admissions and patient table\n",
    "\n",
    "admiss_patient = pd.read_sql_query(\"\"\"SELECT * \n",
    "FROM 'ADMISSIONS'\n",
    "INNER JOIN 'PATIENTS' ON ADMISSIONS.SUBJECT_ID=PATIENTS.SUBJECT_ID;\"\"\",con)\n",
    "#We use an inner join, since I assume all patients will have a SUBJECT_ID\n",
    "\n",
    "admiss_patient\n",
    "\n",
    "#Here again, we can confirm that \n",
    "# admiss_patient.shape \n",
    "# has the same shape as \n",
    "# pd.read_sql_query(\"\"\"SELECT * \n",
    "# FROM 'ADMISSIONS'\"\"\",connection).shape"
   ]
  },
  {
   "cell_type": "code",
   "execution_count": 13,
   "metadata": {},
   "outputs": [],
   "source": [
    "#join admission, patient and icustays"
   ]
  },
  {
   "cell_type": "code",
   "execution_count": 14,
   "metadata": {},
   "outputs": [],
   "source": [
    "#get the length of stay for all patients (measured in fractional days) and plot their distribution for male and female patients."
   ]
  },
  {
   "cell_type": "code",
   "execution_count": 15,
   "metadata": {},
   "outputs": [],
   "source": [
    "#select SUBJECT_ID, ICUSTAY_ID, from icustay and add a column 'LOS_nominal' that converts the LOS into a nominal variable ('Short' if los value > 3 else 'Long')"
   ]
  },
  {
   "source": [
    "### Analysing patient's laboratory measurements\n",
    "\n",
    "Table 'LABEVENTS' contains all laboratory measurements for some specific patients. 'D_LABITEMS' contains definitions for all ITEM_ID associated with lab measurements in the MIMIC database. In this part of the lab session, you should analyse the glucose levels for subject with id 40161. Query the database to retrive only the relevant information; plot the glucose levels for the given subject and interpret the results."
   ],
   "cell_type": "markdown",
   "metadata": {}
  },
  {
   "cell_type": "code",
   "execution_count": 33,
   "metadata": {},
   "outputs": [],
   "source": [
    "#query\n",
    "query2 = \"\"\" SELECT  VALUENUM  FROM  LABEVENTS,D_LABITEMS\n",
    "             WHERE SUBJECT_ID IS 40161 \"\"\" "
   ]
  },
  {
   "cell_type": "code",
   "execution_count": 40,
   "metadata": {},
   "outputs": [
    {
     "output_type": "execute_result",
     "data": {
      "text/plain": [
       "        VALUENUM\n",
       "72         -11.0\n",
       "73         -11.0\n",
       "74         -11.0\n",
       "75         -10.0\n",
       "76         -10.0\n",
       "...          ...\n",
       "490555     590.0\n",
       "490556     638.0\n",
       "490557    1100.0\n",
       "490558    5519.0\n",
       "490559   20058.0\n",
       "\n",
       "[476736 rows x 1 columns]"
      ],
      "text/html": "<div>\n<style scoped>\n    .dataframe tbody tr th:only-of-type {\n        vertical-align: middle;\n    }\n\n    .dataframe tbody tr th {\n        vertical-align: top;\n    }\n\n    .dataframe thead th {\n        text-align: right;\n    }\n</style>\n<table border=\"1\" class=\"dataframe\">\n  <thead>\n    <tr style=\"text-align: right;\">\n      <th></th>\n      <th>VALUENUM</th>\n    </tr>\n  </thead>\n  <tbody>\n    <tr>\n      <th>72</th>\n      <td>-11.0</td>\n    </tr>\n    <tr>\n      <th>73</th>\n      <td>-11.0</td>\n    </tr>\n    <tr>\n      <th>74</th>\n      <td>-11.0</td>\n    </tr>\n    <tr>\n      <th>75</th>\n      <td>-10.0</td>\n    </tr>\n    <tr>\n      <th>76</th>\n      <td>-10.0</td>\n    </tr>\n    <tr>\n      <th>...</th>\n      <td>...</td>\n    </tr>\n    <tr>\n      <th>490555</th>\n      <td>590.0</td>\n    </tr>\n    <tr>\n      <th>490556</th>\n      <td>638.0</td>\n    </tr>\n    <tr>\n      <th>490557</th>\n      <td>1100.0</td>\n    </tr>\n    <tr>\n      <th>490558</th>\n      <td>5519.0</td>\n    </tr>\n    <tr>\n      <th>490559</th>\n      <td>20058.0</td>\n    </tr>\n  </tbody>\n</table>\n<p>476736 rows × 1 columns</p>\n</div>"
     },
     "metadata": {},
     "execution_count": 40
    }
   ],
   "source": [
    "#select only the relevant subset of data\n",
    "glucose_count = pd.read_sql_query(query2,con)\n",
    "glucose_count.dropna() # Since we have NaN in our dataset so we are droping it "
   ]
  },
  {
   "cell_type": "code",
   "execution_count": 43,
   "metadata": {},
   "outputs": [
    {
     "output_type": "stream",
     "name": "stderr",
     "text": [
      "/Library/Frameworks/Python.framework/Versions/3.8/lib/python3.8/site-packages/seaborn/matrix.py:649: UserWarning: Clustering large matrix with scipy. Installing `fastcluster` may give better performance.\n  warnings.warn(msg)\n"
     ]
    }
   ],
   "source": [
    "#plot\n",
    "sns.barplot(data=glucose_count.dropna())"
   ]
  },
  {
   "cell_type": "code",
   "execution_count": null,
   "metadata": {},
   "outputs": [],
   "source": [
    "#interpret result (written comments)"
   ]
  },
  {
   "source": [
    "### Analysing patient's vital signs\n",
    "During an intensive care unit (ICU) stay, the primary repository of a patient’s information is their electronic chart which displays patients’ routine vital signs,laboratory values, mental status, etc. 'CHARTEVENTS' table contains all the charted data available for a patient. 'ICUSTAYS' table (derived from the 'TRANSFERS' table) provides information about the date and time when the patient was transferred into/out the ICU. 'D_ITEMS' provides information about all items in the ICU databases. Considering the information you get from these three tables, find out how does the oxygen saturation level for patient with icu_stay_id 256307 change over time and interpret the results."
   ],
   "cell_type": "markdown",
   "metadata": {}
  },
  {
   "cell_type": "code",
   "execution_count": 17,
   "metadata": {},
   "outputs": [],
   "source": [
    "#query\n",
    "\n",
    "#slect ony the relevant subset of data\n",
    "\n",
    "#plot\n",
    "\n",
    "#interpret result (written comments)"
   ]
  }
 ]
}