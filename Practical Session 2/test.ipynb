{
 "metadata": {
  "language_info": {
   "codemirror_mode": {
    "name": "ipython",
    "version": 3
   },
   "file_extension": ".py",
   "mimetype": "text/x-python",
   "name": "python",
   "nbconvert_exporter": "python",
   "pygments_lexer": "ipython3",
   "version": "3.8.5-final"
  },
  "orig_nbformat": 2,
  "kernelspec": {
   "name": "python3",
   "display_name": "Python 3.8.5 64-bit",
   "metadata": {
    "interpreter": {
     "hash": "aee8b7b246df8f9039afb4144a1f6fd8d2ca17a180786b69acc140d282b71a49"
    }
   }
  }
 },
 "nbformat": 4,
 "nbformat_minor": 2,
 "cells": [
  {
   "cell_type": "code",
   "execution_count": 5,
   "metadata": {},
   "outputs": [],
   "source": [
    "#import libraries \n",
    "import numpy as np\n",
    "import pandas as pd\n",
    "import matplotlib.pyplot as plt\n",
    "import seaborn as sns\n",
    "import sqlite3"
   ]
  },
  {
   "cell_type": "code",
   "execution_count": 132,
   "metadata": {},
   "outputs": [],
   "source": [
    "#connect to the MIMIC database using sqlite3 library.\n",
    "con = sqlite3.connect('/Users/aneruthmohanasundaram/Documents/GitHub/Data-Analytics/Practical Session 2/Datasets/mimicdata.sqlite')"
   ]
  },
  {
   "cell_type": "code",
   "execution_count": 131,
   "metadata": {},
   "outputs": [
    {
     "output_type": "stream",
     "name": "stdout",
     "text": [
      "['CHARTEVENTS', 'DIAGNOSES_ICD', 'D_ICD_DIAGNOSES', 'D_ITEMS', 'D_LABITEMS', 'ICUSTAYS', 'INPUTEVENTS_MV', 'LABEVENTS', 'OUTPUTEVENTS', 'PRESCRIPTIONS', 'PROCEDUREEVENTS_MV', 'TRANSFERS', 'ADMISSIONS', 'MICROBIOLOGYEVENTS', 'PATIENTS']\n"
     ]
    }
   ],
   "source": [
    "#list all the table names present in the database.\n",
    "cursor = con.cursor()\n",
    "columns = [col[0] for col in cursor.execute(\"SELECT name FROM sqlite_master WHERE type='table';\")]\n",
    "print(columns)"
   ]
  },
  {
   "cell_type": "code",
   "execution_count": 135,
   "metadata": {},
   "outputs": [
    {
     "output_type": "stream",
     "name": "stdout",
     "text": [
      "Number of records present in table1 183\nNumber of records present in table2 11\n"
     ]
    }
   ],
   "source": [
    "#choose two tables of your choice and find out for each of them, their corresponding column names and the number of records present.\n",
    "\n",
    "# For Table 1\n",
    "cursor.execute(\"SELECT * FROM DIAGNOSES_ICD\")\n",
    "table1 = cursor.fetchall()\n",
    "print(f'Number of records present in table1 {len(table1)}')\n",
    "\n",
    "# For Table 2\n",
    "cursor.execute(\"SELECT * FROM ICUSTAYS\")\n",
    "table2 = cursor.fetchall()\n",
    "print(f'Number of records present in table2 {len(table2)}')"
   ]
  },
  {
   "cell_type": "code",
   "execution_count": 136,
   "metadata": {},
   "outputs": [],
   "source": [
    "#read these two tables into a dataframe.\n",
    "query = \"\"\"SELECT *\n",
    "        FROM DIAGNOSES_ICD,ICUSTAYS \"\"\"\n",
    "df = pd.read_sql_query(query,con)"
   ]
  },
  {
   "cell_type": "code",
   "execution_count": 137,
   "metadata": {},
   "outputs": [
    {
     "output_type": "execute_result",
     "data": {
      "text/plain": [
       "   ROW_ID  SUBJECT_ID  HADM_ID  SEQ_NUM ICD9_CODE  ROW_ID  SUBJECT_ID  \\\n",
       "0  379265       40004   121157        1     34591   41339       40004   \n",
       "1  379265       40004   121157        1     34591   41347       40036   \n",
       "2  379265       40004   121157        1     34591   41363       40080   \n",
       "3  379265       40004   121157        1     34591   41365       40084   \n",
       "4  379265       40004   121157        1     34591   41373       40116   \n",
       "\n",
       "   HADM_ID  ICUSTAY_ID    DBSOURCE FIRST_CAREUNIT LAST_CAREUNIT  FIRST_WARDID  \\\n",
       "0   121157      256307  metavision           MICU          MICU            50   \n",
       "1   198489      285485  metavision          MSICU         MSICU            52   \n",
       "2   162107      252522  metavision           MICU          MICU            23   \n",
       "3   195762      264630  metavision          TSICU         TSICU            14   \n",
       "4   157106      232646  metavision           MICU          MICU            23   \n",
       "\n",
       "   LAST_WARDID               INTIME              OUTTIME     LOS  \n",
       "0           50  2171-03-01 17:51:30  2171-03-05 18:28:23  4.0256  \n",
       "1           52  2141-08-01 23:48:48  2141-08-02 18:41:50  0.7868  \n",
       "2           23  2106-05-31 16:43:46  2106-06-05 13:18:50  4.8577  \n",
       "3           14  2173-01-31 22:11:54  2173-02-05 04:13:20  4.2510  \n",
       "4           23  2150-02-19 00:14:33  2150-02-25 17:03:04  6.7004  "
      ],
      "text/html": "<div>\n<style scoped>\n    .dataframe tbody tr th:only-of-type {\n        vertical-align: middle;\n    }\n\n    .dataframe tbody tr th {\n        vertical-align: top;\n    }\n\n    .dataframe thead th {\n        text-align: right;\n    }\n</style>\n<table border=\"1\" class=\"dataframe\">\n  <thead>\n    <tr style=\"text-align: right;\">\n      <th></th>\n      <th>ROW_ID</th>\n      <th>SUBJECT_ID</th>\n      <th>HADM_ID</th>\n      <th>SEQ_NUM</th>\n      <th>ICD9_CODE</th>\n      <th>ROW_ID</th>\n      <th>SUBJECT_ID</th>\n      <th>HADM_ID</th>\n      <th>ICUSTAY_ID</th>\n      <th>DBSOURCE</th>\n      <th>FIRST_CAREUNIT</th>\n      <th>LAST_CAREUNIT</th>\n      <th>FIRST_WARDID</th>\n      <th>LAST_WARDID</th>\n      <th>INTIME</th>\n      <th>OUTTIME</th>\n      <th>LOS</th>\n    </tr>\n  </thead>\n  <tbody>\n    <tr>\n      <th>0</th>\n      <td>379265</td>\n      <td>40004</td>\n      <td>121157</td>\n      <td>1</td>\n      <td>34591</td>\n      <td>41339</td>\n      <td>40004</td>\n      <td>121157</td>\n      <td>256307</td>\n      <td>metavision</td>\n      <td>MICU</td>\n      <td>MICU</td>\n      <td>50</td>\n      <td>50</td>\n      <td>2171-03-01 17:51:30</td>\n      <td>2171-03-05 18:28:23</td>\n      <td>4.0256</td>\n    </tr>\n    <tr>\n      <th>1</th>\n      <td>379265</td>\n      <td>40004</td>\n      <td>121157</td>\n      <td>1</td>\n      <td>34591</td>\n      <td>41347</td>\n      <td>40036</td>\n      <td>198489</td>\n      <td>285485</td>\n      <td>metavision</td>\n      <td>MSICU</td>\n      <td>MSICU</td>\n      <td>52</td>\n      <td>52</td>\n      <td>2141-08-01 23:48:48</td>\n      <td>2141-08-02 18:41:50</td>\n      <td>0.7868</td>\n    </tr>\n    <tr>\n      <th>2</th>\n      <td>379265</td>\n      <td>40004</td>\n      <td>121157</td>\n      <td>1</td>\n      <td>34591</td>\n      <td>41363</td>\n      <td>40080</td>\n      <td>162107</td>\n      <td>252522</td>\n      <td>metavision</td>\n      <td>MICU</td>\n      <td>MICU</td>\n      <td>23</td>\n      <td>23</td>\n      <td>2106-05-31 16:43:46</td>\n      <td>2106-06-05 13:18:50</td>\n      <td>4.8577</td>\n    </tr>\n    <tr>\n      <th>3</th>\n      <td>379265</td>\n      <td>40004</td>\n      <td>121157</td>\n      <td>1</td>\n      <td>34591</td>\n      <td>41365</td>\n      <td>40084</td>\n      <td>195762</td>\n      <td>264630</td>\n      <td>metavision</td>\n      <td>TSICU</td>\n      <td>TSICU</td>\n      <td>14</td>\n      <td>14</td>\n      <td>2173-01-31 22:11:54</td>\n      <td>2173-02-05 04:13:20</td>\n      <td>4.2510</td>\n    </tr>\n    <tr>\n      <th>4</th>\n      <td>379265</td>\n      <td>40004</td>\n      <td>121157</td>\n      <td>1</td>\n      <td>34591</td>\n      <td>41373</td>\n      <td>40116</td>\n      <td>157106</td>\n      <td>232646</td>\n      <td>metavision</td>\n      <td>MICU</td>\n      <td>MICU</td>\n      <td>23</td>\n      <td>23</td>\n      <td>2150-02-19 00:14:33</td>\n      <td>2150-02-25 17:03:04</td>\n      <td>6.7004</td>\n    </tr>\n  </tbody>\n</table>\n</div>"
     },
     "metadata": {},
     "execution_count": 137
    }
   ],
   "source": [
    "# To print dataframe head\n",
    "df.head()"
   ]
  },
  {
   "cell_type": "code",
   "execution_count": 171,
   "metadata": {},
   "outputs": [
    {
     "output_type": "execute_result",
     "data": {
      "text/plain": [
       "    ROW_ID  SUBJECT_ID  HADM_ID            CHARTDATE            CHARTTIME  \\\n",
       "13  268050       40161   180396  2181-10-24 00:00:00  2181-10-24 18:10:00   \n",
       "16  268847       40161   180396  2181-11-23 00:00:00  2181-11-23 23:47:00   \n",
       "17  268848       40161   180396  2181-11-23 00:00:00  2181-11-23 23:47:00   \n",
       "18  268849       40161   180396  2181-11-23 00:00:00  2181-11-23 23:47:00   \n",
       "19  268850       40161   180396  2181-11-23 00:00:00  2181-11-23 23:47:00   \n",
       "20  268851       40161   180396  2181-11-23 00:00:00  2181-11-23 23:47:00   \n",
       "21  268852       40161   180396  2181-11-23 00:00:00  2181-11-23 23:47:00   \n",
       "22  268853       40161   180396  2181-11-23 00:00:00  2181-11-23 23:47:00   \n",
       "23  268854       40161   180396  2181-11-23 00:00:00  2181-11-23 23:47:00   \n",
       "24  268855       40161   180396  2181-11-23 00:00:00  2181-11-23 23:47:00   \n",
       "76  268557       40161   180396  2181-11-23 00:00:00  2181-11-23 23:47:00   \n",
       "77  268558       40161   180396  2181-11-23 00:00:00  2181-11-23 23:47:00   \n",
       "90  315552       40004   121157  2171-03-04 00:00:00  2171-03-04 21:12:00   \n",
       "\n",
       "    SPEC_ITEMID SPEC_TYPE_DESC  ORG_ITEMID  \\\n",
       "13        70012  BLOOD CULTURE       80238   \n",
       "16        70012  BLOOD CULTURE       80005   \n",
       "17        70012  BLOOD CULTURE       80005   \n",
       "18        70012  BLOOD CULTURE       80005   \n",
       "19        70012  BLOOD CULTURE       80005   \n",
       "20        70012  BLOOD CULTURE       80005   \n",
       "21        70012  BLOOD CULTURE       80005   \n",
       "22        70012  BLOOD CULTURE       80005   \n",
       "23        70012  BLOOD CULTURE       80005   \n",
       "24        70012  BLOOD CULTURE       80005   \n",
       "76        70012  BLOOD CULTURE       80005   \n",
       "77        70012  BLOOD CULTURE       80005   \n",
       "90        70012  BLOOD CULTURE       80155   \n",
       "\n",
       "                                             ORG_NAME  ISOLATE_NUM  AB_ITEMID  \\\n",
       "13  CLOSTRIDIUM SPECIES NOT C. PERFRINGENS OR C. S...            1        NaN   \n",
       "16                                 KLEBSIELLA OXYTOCA            1    90012.0   \n",
       "17                                 KLEBSIELLA OXYTOCA            1    90013.0   \n",
       "18                                 KLEBSIELLA OXYTOCA            1    90017.0   \n",
       "19                                 KLEBSIELLA OXYTOCA            1    90018.0   \n",
       "20                                 KLEBSIELLA OXYTOCA            1    90019.0   \n",
       "21                                 KLEBSIELLA OXYTOCA            1    90022.0   \n",
       "22                                 KLEBSIELLA OXYTOCA            1    90026.0   \n",
       "23                                 KLEBSIELLA OXYTOCA            1    90028.0   \n",
       "24                                 KLEBSIELLA OXYTOCA            1    90005.0   \n",
       "76                                 KLEBSIELLA OXYTOCA            1    90008.0   \n",
       "77                                 KLEBSIELLA OXYTOCA            1    90029.0   \n",
       "90                 STAPHYLOCOCCUS, COAGULASE NEGATIVE            1        NaN   \n",
       "\n",
       "                 AB_NAME DILUTION_TEXT DILUTION_COMPARISON  DILUTION_VALUE  \\\n",
       "13                                                                     NaN   \n",
       "16            GENTAMICIN           <=1                  <=             1.0   \n",
       "17            TOBRAMYCIN           <=1                  <=             1.0   \n",
       "18           CEFTAZIDIME           <=1                  <=             1.0   \n",
       "19           CEFTRIAXONE           <=1                  <=             1.0   \n",
       "20         CIPROFLOXACIN        <=0.25                  <=             0.0   \n",
       "21  AMPICILLIN/SULBACTAM          =>32                  =>            32.0   \n",
       "22     PIPERACILLIN/TAZO         =>128                  =>           128.0   \n",
       "23              CEFEPIME           <=1                  <=             1.0   \n",
       "24             CEFAZOLIN          =>64                  =>            64.0   \n",
       "76    TRIMETHOPRIM/SULFA           <=1                  <=             1.0   \n",
       "77             MEROPENEM        <=0.25                  <=             0.0   \n",
       "90                                                                     NaN   \n",
       "\n",
       "   INTERPRETATION  \n",
       "13                 \n",
       "16              S  \n",
       "17              S  \n",
       "18              S  \n",
       "19              S  \n",
       "20              S  \n",
       "21              R  \n",
       "22              R  \n",
       "23              S  \n",
       "24              R  \n",
       "76              S  \n",
       "77              S  \n",
       "90                 "
      ],
      "text/html": "<div>\n<style scoped>\n    .dataframe tbody tr th:only-of-type {\n        vertical-align: middle;\n    }\n\n    .dataframe tbody tr th {\n        vertical-align: top;\n    }\n\n    .dataframe thead th {\n        text-align: right;\n    }\n</style>\n<table border=\"1\" class=\"dataframe\">\n  <thead>\n    <tr style=\"text-align: right;\">\n      <th></th>\n      <th>ROW_ID</th>\n      <th>SUBJECT_ID</th>\n      <th>HADM_ID</th>\n      <th>CHARTDATE</th>\n      <th>CHARTTIME</th>\n      <th>SPEC_ITEMID</th>\n      <th>SPEC_TYPE_DESC</th>\n      <th>ORG_ITEMID</th>\n      <th>ORG_NAME</th>\n      <th>ISOLATE_NUM</th>\n      <th>AB_ITEMID</th>\n      <th>AB_NAME</th>\n      <th>DILUTION_TEXT</th>\n      <th>DILUTION_COMPARISON</th>\n      <th>DILUTION_VALUE</th>\n      <th>INTERPRETATION</th>\n    </tr>\n  </thead>\n  <tbody>\n    <tr>\n      <th>13</th>\n      <td>268050</td>\n      <td>40161</td>\n      <td>180396</td>\n      <td>2181-10-24 00:00:00</td>\n      <td>2181-10-24 18:10:00</td>\n      <td>70012</td>\n      <td>BLOOD CULTURE</td>\n      <td>80238</td>\n      <td>CLOSTRIDIUM SPECIES NOT C. PERFRINGENS OR C. S...</td>\n      <td>1</td>\n      <td>NaN</td>\n      <td></td>\n      <td></td>\n      <td></td>\n      <td>NaN</td>\n      <td></td>\n    </tr>\n    <tr>\n      <th>16</th>\n      <td>268847</td>\n      <td>40161</td>\n      <td>180396</td>\n      <td>2181-11-23 00:00:00</td>\n      <td>2181-11-23 23:47:00</td>\n      <td>70012</td>\n      <td>BLOOD CULTURE</td>\n      <td>80005</td>\n      <td>KLEBSIELLA OXYTOCA</td>\n      <td>1</td>\n      <td>90012.0</td>\n      <td>GENTAMICIN</td>\n      <td>&lt;=1</td>\n      <td>&lt;=</td>\n      <td>1.0</td>\n      <td>S</td>\n    </tr>\n    <tr>\n      <th>17</th>\n      <td>268848</td>\n      <td>40161</td>\n      <td>180396</td>\n      <td>2181-11-23 00:00:00</td>\n      <td>2181-11-23 23:47:00</td>\n      <td>70012</td>\n      <td>BLOOD CULTURE</td>\n      <td>80005</td>\n      <td>KLEBSIELLA OXYTOCA</td>\n      <td>1</td>\n      <td>90013.0</td>\n      <td>TOBRAMYCIN</td>\n      <td>&lt;=1</td>\n      <td>&lt;=</td>\n      <td>1.0</td>\n      <td>S</td>\n    </tr>\n    <tr>\n      <th>18</th>\n      <td>268849</td>\n      <td>40161</td>\n      <td>180396</td>\n      <td>2181-11-23 00:00:00</td>\n      <td>2181-11-23 23:47:00</td>\n      <td>70012</td>\n      <td>BLOOD CULTURE</td>\n      <td>80005</td>\n      <td>KLEBSIELLA OXYTOCA</td>\n      <td>1</td>\n      <td>90017.0</td>\n      <td>CEFTAZIDIME</td>\n      <td>&lt;=1</td>\n      <td>&lt;=</td>\n      <td>1.0</td>\n      <td>S</td>\n    </tr>\n    <tr>\n      <th>19</th>\n      <td>268850</td>\n      <td>40161</td>\n      <td>180396</td>\n      <td>2181-11-23 00:00:00</td>\n      <td>2181-11-23 23:47:00</td>\n      <td>70012</td>\n      <td>BLOOD CULTURE</td>\n      <td>80005</td>\n      <td>KLEBSIELLA OXYTOCA</td>\n      <td>1</td>\n      <td>90018.0</td>\n      <td>CEFTRIAXONE</td>\n      <td>&lt;=1</td>\n      <td>&lt;=</td>\n      <td>1.0</td>\n      <td>S</td>\n    </tr>\n    <tr>\n      <th>20</th>\n      <td>268851</td>\n      <td>40161</td>\n      <td>180396</td>\n      <td>2181-11-23 00:00:00</td>\n      <td>2181-11-23 23:47:00</td>\n      <td>70012</td>\n      <td>BLOOD CULTURE</td>\n      <td>80005</td>\n      <td>KLEBSIELLA OXYTOCA</td>\n      <td>1</td>\n      <td>90019.0</td>\n      <td>CIPROFLOXACIN</td>\n      <td>&lt;=0.25</td>\n      <td>&lt;=</td>\n      <td>0.0</td>\n      <td>S</td>\n    </tr>\n    <tr>\n      <th>21</th>\n      <td>268852</td>\n      <td>40161</td>\n      <td>180396</td>\n      <td>2181-11-23 00:00:00</td>\n      <td>2181-11-23 23:47:00</td>\n      <td>70012</td>\n      <td>BLOOD CULTURE</td>\n      <td>80005</td>\n      <td>KLEBSIELLA OXYTOCA</td>\n      <td>1</td>\n      <td>90022.0</td>\n      <td>AMPICILLIN/SULBACTAM</td>\n      <td>=&gt;32</td>\n      <td>=&gt;</td>\n      <td>32.0</td>\n      <td>R</td>\n    </tr>\n    <tr>\n      <th>22</th>\n      <td>268853</td>\n      <td>40161</td>\n      <td>180396</td>\n      <td>2181-11-23 00:00:00</td>\n      <td>2181-11-23 23:47:00</td>\n      <td>70012</td>\n      <td>BLOOD CULTURE</td>\n      <td>80005</td>\n      <td>KLEBSIELLA OXYTOCA</td>\n      <td>1</td>\n      <td>90026.0</td>\n      <td>PIPERACILLIN/TAZO</td>\n      <td>=&gt;128</td>\n      <td>=&gt;</td>\n      <td>128.0</td>\n      <td>R</td>\n    </tr>\n    <tr>\n      <th>23</th>\n      <td>268854</td>\n      <td>40161</td>\n      <td>180396</td>\n      <td>2181-11-23 00:00:00</td>\n      <td>2181-11-23 23:47:00</td>\n      <td>70012</td>\n      <td>BLOOD CULTURE</td>\n      <td>80005</td>\n      <td>KLEBSIELLA OXYTOCA</td>\n      <td>1</td>\n      <td>90028.0</td>\n      <td>CEFEPIME</td>\n      <td>&lt;=1</td>\n      <td>&lt;=</td>\n      <td>1.0</td>\n      <td>S</td>\n    </tr>\n    <tr>\n      <th>24</th>\n      <td>268855</td>\n      <td>40161</td>\n      <td>180396</td>\n      <td>2181-11-23 00:00:00</td>\n      <td>2181-11-23 23:47:00</td>\n      <td>70012</td>\n      <td>BLOOD CULTURE</td>\n      <td>80005</td>\n      <td>KLEBSIELLA OXYTOCA</td>\n      <td>1</td>\n      <td>90005.0</td>\n      <td>CEFAZOLIN</td>\n      <td>=&gt;64</td>\n      <td>=&gt;</td>\n      <td>64.0</td>\n      <td>R</td>\n    </tr>\n    <tr>\n      <th>76</th>\n      <td>268557</td>\n      <td>40161</td>\n      <td>180396</td>\n      <td>2181-11-23 00:00:00</td>\n      <td>2181-11-23 23:47:00</td>\n      <td>70012</td>\n      <td>BLOOD CULTURE</td>\n      <td>80005</td>\n      <td>KLEBSIELLA OXYTOCA</td>\n      <td>1</td>\n      <td>90008.0</td>\n      <td>TRIMETHOPRIM/SULFA</td>\n      <td>&lt;=1</td>\n      <td>&lt;=</td>\n      <td>1.0</td>\n      <td>S</td>\n    </tr>\n    <tr>\n      <th>77</th>\n      <td>268558</td>\n      <td>40161</td>\n      <td>180396</td>\n      <td>2181-11-23 00:00:00</td>\n      <td>2181-11-23 23:47:00</td>\n      <td>70012</td>\n      <td>BLOOD CULTURE</td>\n      <td>80005</td>\n      <td>KLEBSIELLA OXYTOCA</td>\n      <td>1</td>\n      <td>90029.0</td>\n      <td>MEROPENEM</td>\n      <td>&lt;=0.25</td>\n      <td>&lt;=</td>\n      <td>0.0</td>\n      <td>S</td>\n    </tr>\n    <tr>\n      <th>90</th>\n      <td>315552</td>\n      <td>40004</td>\n      <td>121157</td>\n      <td>2171-03-04 00:00:00</td>\n      <td>2171-03-04 21:12:00</td>\n      <td>70012</td>\n      <td>BLOOD CULTURE</td>\n      <td>80155</td>\n      <td>STAPHYLOCOCCUS, COAGULASE NEGATIVE</td>\n      <td>1</td>\n      <td>NaN</td>\n      <td></td>\n      <td></td>\n      <td></td>\n      <td>NaN</td>\n      <td></td>\n    </tr>\n  </tbody>\n</table>\n</div>"
     },
     "metadata": {},
     "execution_count": 171
    }
   ],
   "source": [
    "#display only the microbiology_events information for which a blood culture was performed.\n",
    "query1 = \"\"\" SELECT * \n",
    "        FROM MICROBIOLOGYEVENTS \n",
    "        WHERE ORG_NAME IS NOT NULL\"\"\"\n",
    "microbio = pd.read_sql_query(query1,con)\n",
    "microbio[microbio['SPEC_TYPE_DESC'] == 'BLOOD CULTURE']"
   ]
  },
  {
   "cell_type": "code",
   "execution_count": null,
   "metadata": {},
   "outputs": [],
   "source": []
  }
 ]
}