{
 "metadata": {
  "language_info": {
   "codemirror_mode": {
    "name": "ipython",
    "version": 3
   },
   "file_extension": ".py",
   "mimetype": "text/x-python",
   "name": "python",
   "nbconvert_exporter": "python",
   "pygments_lexer": "ipython3",
   "version": "3.8.5-final"
  },
  "orig_nbformat": 2,
  "kernelspec": {
   "name": "python3",
   "display_name": "Python 3.8.5 64-bit",
   "metadata": {
    "interpreter": {
     "hash": "aee8b7b246df8f9039afb4144a1f6fd8d2ca17a180786b69acc140d282b71a49"
    }
   }
  }
 },
 "nbformat": 4,
 "nbformat_minor": 2,
 "cells": [
  {
   "cell_type": "code",
   "execution_count": 5,
   "metadata": {},
   "outputs": [],
   "source": [
    "#import libraries \n",
    "import numpy as np\n",
    "import pandas as pd\n",
    "import matplotlib.pyplot as plt\n",
    "import seaborn as sns\n",
    "import sqlite3"
   ]
  },
  {
   "cell_type": "code",
   "execution_count": 132,
   "metadata": {},
   "outputs": [],
   "source": [
    "#connect to the MIMIC database using sqlite3 library.\n",
    "con = sqlite3.connect('/Users/aneruthmohanasundaram/Documents/GitHub/Data-Analytics/Practical Session 2/Datasets/mimicdata.sqlite')"
   ]
  },
  {
   "cell_type": "code",
   "execution_count": 131,
   "metadata": {},
   "outputs": [
    {
     "output_type": "stream",
     "name": "stdout",
     "text": [
      "['CHARTEVENTS', 'DIAGNOSES_ICD', 'D_ICD_DIAGNOSES', 'D_ITEMS', 'D_LABITEMS', 'ICUSTAYS', 'INPUTEVENTS_MV', 'LABEVENTS', 'OUTPUTEVENTS', 'PRESCRIPTIONS', 'PROCEDUREEVENTS_MV', 'TRANSFERS', 'ADMISSIONS', 'MICROBIOLOGYEVENTS', 'PATIENTS']\n"
     ]
    }
   ],
   "source": [
    "#list all the table names present in the database.\n",
    "cursor = con.cursor()\n",
    "columns = [col[0] for col in cursor.execute(\"SELECT name FROM sqlite_master WHERE type='table';\")]\n",
    "print(columns)"
   ]
  },
  {
   "cell_type": "code",
   "execution_count": 135,
   "metadata": {},
   "outputs": [
    {
     "output_type": "stream",
     "name": "stdout",
     "text": [
      "Number of records present in table1 183\nNumber of records present in table2 11\n"
     ]
    }
   ],
   "source": [
    "#choose two tables of your choice and find out for each of them, their corresponding column names and the number of records present.\n",
    "\n",
    "# For Table 1\n",
    "cursor.execute(\"SELECT * FROM DIAGNOSES_ICD\")\n",
    "table1 = cursor.fetchall()\n",
    "print(f'Number of records present in table1 {len(table1)}')\n",
    "\n",
    "# For Table 2\n",
    "cursor.execute(\"SELECT * FROM ICUSTAYS\")\n",
    "table2 = cursor.fetchall()\n",
    "print(f'Number of records present in table2 {len(table2)}')"
   ]
  },
  {
   "cell_type": "code",
   "execution_count": 136,
   "metadata": {},
   "outputs": [],
   "source": [
    "#read these two tables into a dataframe.\n",
    "query = \"\"\"SELECT *\n",
    "        FROM DIAGNOSES_ICD,ICUSTAYS \"\"\"\n",
    "df = pd.read_sql_query(query,con)"
   ]
  },
  {
   "cell_type": "code",
   "execution_count": 137,
   "metadata": {},
   "outputs": [
    {
     "output_type": "execute_result",
     "data": {
      "text/plain": [
       "   ROW_ID  SUBJECT_ID  HADM_ID  SEQ_NUM ICD9_CODE  ROW_ID  SUBJECT_ID  \\\n",
       "0  379265       40004   121157        1     34591   41339       40004   \n",
       "1  379265       40004   121157        1     34591   41347       40036   \n",
       "2  379265       40004   121157        1     34591   41363       40080   \n",
       "3  379265       40004   121157        1     34591   41365       40084   \n",
       "4  379265       40004   121157        1     34591   41373       40116   \n",
       "\n",
       "   HADM_ID  ICUSTAY_ID    DBSOURCE FIRST_CAREUNIT LAST_CAREUNIT  FIRST_WARDID  \\\n",
       "0   121157      256307  metavision           MICU          MICU            50   \n",
       "1   198489      285485  metavision          MSICU         MSICU            52   \n",
       "2   162107      252522  metavision           MICU          MICU            23   \n",
       "3   195762      264630  metavision          TSICU         TSICU            14   \n",
       "4   157106      232646  metavision           MICU          MICU            23   \n",
       "\n",
       "   LAST_WARDID               INTIME              OUTTIME     LOS  \n",
       "0           50  2171-03-01 17:51:30  2171-03-05 18:28:23  4.0256  \n",
       "1           52  2141-08-01 23:48:48  2141-08-02 18:41:50  0.7868  \n",
       "2           23  2106-05-31 16:43:46  2106-06-05 13:18:50  4.8577  \n",
       "3           14  2173-01-31 22:11:54  2173-02-05 04:13:20  4.2510  \n",
       "4           23  2150-02-19 00:14:33  2150-02-25 17:03:04  6.7004  "
      ],
      "text/html": "<div>\n<style scoped>\n    .dataframe tbody tr th:only-of-type {\n        vertical-align: middle;\n    }\n\n    .dataframe tbody tr th {\n        vertical-align: top;\n    }\n\n    .dataframe thead th {\n        text-align: right;\n    }\n</style>\n<table border=\"1\" class=\"dataframe\">\n  <thead>\n    <tr style=\"text-align: right;\">\n      <th></th>\n      <th>ROW_ID</th>\n      <th>SUBJECT_ID</th>\n      <th>HADM_ID</th>\n      <th>SEQ_NUM</th>\n      <th>ICD9_CODE</th>\n      <th>ROW_ID</th>\n      <th>SUBJECT_ID</th>\n      <th>HADM_ID</th>\n      <th>ICUSTAY_ID</th>\n      <th>DBSOURCE</th>\n      <th>FIRST_CAREUNIT</th>\n      <th>LAST_CAREUNIT</th>\n      <th>FIRST_WARDID</th>\n      <th>LAST_WARDID</th>\n      <th>INTIME</th>\n      <th>OUTTIME</th>\n      <th>LOS</th>\n    </tr>\n  </thead>\n  <tbody>\n    <tr>\n      <th>0</th>\n      <td>379265</td>\n      <td>40004</td>\n      <td>121157</td>\n      <td>1</td>\n      <td>34591</td>\n      <td>41339</td>\n      <td>40004</td>\n      <td>121157</td>\n      <td>256307</td>\n      <td>metavision</td>\n      <td>MICU</td>\n      <td>MICU</td>\n      <td>50</td>\n      <td>50</td>\n      <td>2171-03-01 17:51:30</td>\n      <td>2171-03-05 18:28:23</td>\n      <td>4.0256</td>\n    </tr>\n    <tr>\n      <th>1</th>\n      <td>379265</td>\n      <td>40004</td>\n      <td>121157</td>\n      <td>1</td>\n      <td>34591</td>\n      <td>41347</td>\n      <td>40036</td>\n      <td>198489</td>\n      <td>285485</td>\n      <td>metavision</td>\n      <td>MSICU</td>\n      <td>MSICU</td>\n      <td>52</td>\n      <td>52</td>\n      <td>2141-08-01 23:48:48</td>\n      <td>2141-08-02 18:41:50</td>\n      <td>0.7868</td>\n    </tr>\n    <tr>\n      <th>2</th>\n      <td>379265</td>\n      <td>40004</td>\n      <td>121157</td>\n      <td>1</td>\n      <td>34591</td>\n      <td>41363</td>\n      <td>40080</td>\n      <td>162107</td>\n      <td>252522</td>\n      <td>metavision</td>\n      <td>MICU</td>\n      <td>MICU</td>\n      <td>23</td>\n      <td>23</td>\n      <td>2106-05-31 16:43:46</td>\n      <td>2106-06-05 13:18:50</td>\n      <td>4.8577</td>\n    </tr>\n    <tr>\n      <th>3</th>\n      <td>379265</td>\n      <td>40004</td>\n      <td>121157</td>\n      <td>1</td>\n      <td>34591</td>\n      <td>41365</td>\n      <td>40084</td>\n      <td>195762</td>\n      <td>264630</td>\n      <td>metavision</td>\n      <td>TSICU</td>\n      <td>TSICU</td>\n      <td>14</td>\n      <td>14</td>\n      <td>2173-01-31 22:11:54</td>\n      <td>2173-02-05 04:13:20</td>\n      <td>4.2510</td>\n    </tr>\n    <tr>\n      <th>4</th>\n      <td>379265</td>\n      <td>40004</td>\n      <td>121157</td>\n      <td>1</td>\n      <td>34591</td>\n      <td>41373</td>\n      <td>40116</td>\n      <td>157106</td>\n      <td>232646</td>\n      <td>metavision</td>\n      <td>MICU</td>\n      <td>MICU</td>\n      <td>23</td>\n      <td>23</td>\n      <td>2150-02-19 00:14:33</td>\n      <td>2150-02-25 17:03:04</td>\n      <td>6.7004</td>\n    </tr>\n  </tbody>\n</table>\n</div>"
     },
     "metadata": {},
     "execution_count": 137
    }
   ],
   "source": [
    "# To print dataframe head\n",
    "df.head()"
   ]
  },
  {
   "cell_type": "code",
   "execution_count": null,
   "metadata": {},
   "outputs": [],
   "source": []
  }
 ]
}