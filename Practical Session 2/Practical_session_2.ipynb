{
 "cells": [
  {
   "cell_type": "markdown",
   "metadata": {
    "id": "nazn9I0Zxk9T"
   },
   "source": [
    "\n",
    "## Data Analytics in Health Care and Connected Care/Health Information Systems\n",
    " *Practical Session II: Data Analytics in Healthcare and Connected Care/Health  Information Systems - working with data from a real healthcare database*\n",
    "\n",
    "---\n",
    "---\n",
    "The aims of this practical session are: (a) to make you work with (a subset of) data from a real healthcare database, MIMIC-III (Medical Information Mart for Intensive Care III); (b) explore the data available using simple and complex SQL queries; (c) analyse more in details patient's data. One of the group members must submit the completed notebook of the second practical session in Canvas by March 20th, 23:59:59 (GMT+1).\n",
    "\n",
    "---\n",
    "\n",
    "\n",
    "---\n",
    "\n",
    "*Lecturer/s: Bart Jansen (bjansen@etrovub.be),  Jef Vandemeulebroucke (jefvdmb@etrovub.be), Nikolaos Deligiannis (ndeligia@etrovub.be)*\n",
    "\n",
    "*Teaching assistant/s: Joris Wuts(jwuts@etrovub.be), Jasabanta Patro (jpatro@etrovub.be), Redona Brahimetaj (rbrahime@etrovub.be)*\n",
    "\n",
    "\n"
   ]
  },
  {
   "cell_type": "code",
   "execution_count": null,
   "metadata": {
    "id": "i0ZDDD4KhIcV"
   },
   "outputs": [],
   "source": [
    "student1_full_name = str(input('Enter your full name: '))\n",
    "student1_id = int(input('Enter your student ID: '))\n",
    "student2_full_name = str(input('Enter your full name: '))\n",
    "student2_id = int(input('Enter your student ID: '))"
   ]
  },
  {
   "cell_type": "markdown",
   "metadata": {
    "id": "zOGAOpEpMYpx"
   },
   "source": [
    "---\n",
    "---\n",
    "#Getting started with SQLite in Python\n",
    "---\n",
    "\n",
    "---\n",
    "\n",
    "\n",
    "> Accessing data from a database like Structured Query Language (SQL) is not only efficient, but it allows you also to subset and import only the parts of the data that you need. During this practical session, you will use [SQLite](https://sqlite.org/docs.html) (a C-language library that implements a small, fast, self-contained SQL database engine) and the 'mimicdata.sqlite' file shared in Canvas. \n",
    "\n",
    "---\n",
    "---"
   ]
  },
  {
   "cell_type": "code",
   "execution_count": null,
   "metadata": {
    "id": "BxmhK9JM-qBt"
   },
   "outputs": [],
   "source": [
    "#import libraries \n",
    "import numpy as np, pandas as pd, matplotlib.pyplot as plt, seaborn as sns, matplotlib.pyplot as plt, bokeh, sqlite3\n"
   ]
  },
  {
   "cell_type": "markdown",
   "metadata": {
    "id": "hqs9yHcOAODC"
   },
   "source": [
    "In this first part of the lab session, you should: \n",
    "\n",
    "*   connect to the MIMIC database using sqlite3 library.\n",
    "*   list all the table names present in the database.\n",
    "*   read [here](https://mimic.physionet.org/mimictables/) the description about the MIMIC-III tables present in the 'sqlite' file you will be using.\n",
    "*   choose two tables of your choice and find out for each of them, their corresponding column names and the number of records present.\n",
    "*   read these two tables into a dataframe.\n",
    "\n",
    "Keywords: [sqlite 3 connection](https://docs.python.org/3/library/sqlite3.html#connection-objects), [MIMIC tables](https://mimic.physionet.org/mimictables/) ,[query execution](https://docs.python.org/3/library/sqlite3.html#sqlite3.Cursor.execute), [read sql query into a DataFrame.](https://pandas.pydata.org/pandas-docs/stable/reference/api/pandas.read_sql_query.html)\n"
   ]
  },
  {
   "cell_type": "code",
   "execution_count": null,
   "metadata": {
    "id": "yDrxT1FNIbkN"
   },
   "outputs": [],
   "source": [
    "#connect to the MIMIC database using sqlite3 library.\n",
    "\n",
    "#list all the table names present in the database.\n",
    "\n",
    "#choose two tables of your choice and find out for each of them, their corresponding column names and the number of records present.\n",
    "\n",
    "#read these two tables into a dataframe.\n"
   ]
  },
  {
   "cell_type": "markdown",
   "metadata": {
    "id": "T4R5r-x-aCoF"
   },
   "source": [
    "---\n",
    "# Explore the data using SQL queries\n",
    "---\n",
    "---\n",
    "The main goal of this part of the lab session is to familiarize yourself with simple and complex sql queries that you can write in order to retrieve only a part of the data you have interest to perform analysis. We suggest that you save your queries into variables to avoid having to re-think/re-write them each time you want to use again. Towards reaching the main goal mentioned, you need to: \n",
    "\n",
    "---\n",
    "### Write sql queries to query single tables:\n",
    "---\n",
    "*   Display only the 'microbiologyevents' information for which a blood culture was performed.\n",
    "*   Display the number of urine specimen tested for bacterial growth. \n",
    "*   Display all the distinct drug values (from prescription table) used among all the records present.\n",
    "*   Considering the information available at 'ransfers' table, find out the numbers of patients admitted; transfered or discharged from the hospital.\n",
    "*   Display only the records from outputevents table for substances whose level of injection was higher than 100 mL (ordered based on the injection value) and caregiver id was 21452 and 21108. \n",
    "---\n",
    "### Write sql queries to query multiple tables:\n",
    "---\n",
    "*   Join 'admissions' and 'patient' table. \n",
    "*   Join 'admissions', 'patient' and 'icustays' table (pay attention to the keys).\n",
    "*   Get the length of stay for all patients (measured in fractional days) and plot their distribution for male and female patients.\n",
    "*   Write a query that selects SUBJECT_ID, GENDER, ICUSTAY_ID and adds a column 'LOS_nominal' that converts the 'LOS' into a nominal variable ('Short' if los value <= 3 else 'Long').\n",
    "---\n",
    "\n",
    "\n",
    "Keywords: [sqlite](https://docs.python.org/3/library/sqlite3.html#module-functions-and-constants), [sqlite select](https://www.sqlitetutorial.net/sqlite-select/), [sqlite where](https://www.sqlitetutorial.net/sqlite-where/), [sqlite select distinct](https://www.sqlitetutorial.net/sqlite-select-distinct), [sqlite order by](https://www.sqlitetutorial.net/sqlite-order-by/), [sqlite IN operator](https://www.sqlitetutorial.net/sqlite-in/), [sqlite group by](https://www.sqlitetutorial.net/sqlite-group-by/), [sqlite join](https://www.sqlitetutorial.net/sqlite-join/).\n"
   ]
  },
  {
   "cell_type": "code",
   "execution_count": null,
   "metadata": {
    "id": "fO_jqWEH4tlg"
   },
   "outputs": [],
   "source": [
    "#display only the microbiology_events information for which a blood culture was performed.\n",
    "\n",
    "\n",
    "#display the number of urine specimen tested for bacterial growth.\n",
    "\n",
    "\n",
    "#display all the distinct drug values (from prescription table) used among all the records present.\n",
    "\n",
    "\n",
    "#considering the information available at transfers table, find out the numbers of patients admitted; transfered or discharged from the hospital.\n",
    "\n",
    "\n",
    "#display only information for substances whose level of injection was higher than 100 mL (ordered based on the injection value) and caregiver id was 21452 and 21108. \n",
    "\n"
   ]
  },
  {
   "cell_type": "code",
   "execution_count": null,
   "metadata": {
    "id": "lQ9jOO102t_P"
   },
   "outputs": [],
   "source": [
    "#join admissions and patient table\n",
    "\n",
    "\n",
    "#join admission, patient and icustays\n",
    "\n",
    "\n",
    "#get the length of stay for all patients (measured in fractional days) and plot their distribution for male and female patients.\n",
    "\n",
    "\n",
    "#select SUBJECT_ID, ICUSTAY_ID, from icustay and add a column 'LOS_nominal' that converts the LOS into a nominal variable ('Short' if los value > 3 else 'Long')\n",
    "\n"
   ]
  },
  {
   "cell_type": "markdown",
   "metadata": {
    "id": "Xtw6LE83FKZ2"
   },
   "source": [
    "## Analysing patient's laboratory measurements \n",
    "\n",
    "Table 'LABEVENTS' contains all laboratory measurements for some specific patients. 'D_LABITEMS' contains definitions for all ITEM_ID associated with lab measurements in the MIMIC database. In this part of the lab session, you should analyse the glucose levels for subject with id 40161. Query the database to retrive only the relevant information; plot the glucose levels for the given subject and interpret the results. "
   ]
  },
  {
   "cell_type": "code",
   "execution_count": null,
   "metadata": {
    "id": "1eZGh0zQBnQn"
   },
   "outputs": [],
   "source": [
    "#query\n",
    "\n",
    "#select only the relevant subset of data\n",
    "\n",
    "#plot\n",
    "\n",
    "#interpret result (written comments)"
   ]
  },
  {
   "cell_type": "markdown",
   "metadata": {
    "id": "4pjlBfCkCGn4"
   },
   "source": [
    "## Analysing patient's vital signs\n",
    "\n",
    "During an intensive care unit (ICU) stay, the primary repository of a patient’s information is their electronic chart which displays patients’ routine vital signs,laboratory values, mental status, etc. 'CHARTEVENTS' table contains all the charted data available for a patient. 'ICUSTAYS' table (derived from the 'TRANSFERS' table) provides information about the date and time when the patient was transferred into/out the ICU. 'D_ITEMS' provides information about all items in the ICU databases. Considering the information you get from these three tables, find out how does the oxygen saturation level for patient with icu_stay_id 256307 change over time and interpret the results."
   ]
  },
  {
   "cell_type": "code",
   "execution_count": null,
   "metadata": {
    "id": "LlJUd8OSY_pb"
   },
   "outputs": [],
   "source": [
    "#query\n",
    "\n",
    "#slect ony the relevant subset of data\n",
    "\n",
    "#plot\n",
    "\n",
    "#interpret result (written comments)"
   ]
  }
 ],
 "metadata": {
  "colab": {
   "collapsed_sections": [],
   "name": "Practical session 2.ipynb",
   "provenance": []
  },
  "kernelspec": {
   "display_name": "Python 3",
   "language": "python",
   "name": "python3"
  },
  "language_info": {
   "codemirror_mode": {
    "name": "ipython",
    "version": 3
   },
   "file_extension": ".py",
   "mimetype": "text/x-python",
   "name": "python",
   "nbconvert_exporter": "python",
   "pygments_lexer": "ipython3",
   "version": "3.7.3"
  }
 },
 "nbformat": 4,
 "nbformat_minor": 1
}
