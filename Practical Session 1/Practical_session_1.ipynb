{
  "nbformat": 4,
  "nbformat_minor": 0,
  "metadata": {
    "colab": {
      "name": "Practical_session_1_DAHCC.ipynb",
      "provenance": [],
      "collapsed_sections": []
    },
    "kernelspec": {
      "name": "python3",
      "display_name": "Python 3"
    }
  },
  "cells": [
    {
      "cell_type": "markdown",
      "metadata": {
        "id": "A5BABQHx3ep6"
      },
      "source": [
        "\n",
        "## **Data Analytics in Health Care and Connected Care**\n",
        "---\n",
        "---\n",
        " *Practical Session I: Introduction to Data Analytics in Healthcare - understanding and working with healthcare data*\n",
        "\n",
        "\n",
        "---\n",
        "---\n",
        "The aims of this practical session are: (a) to make you understand the importance of the information found in electronic health records (EHR); (b) gain insights in performing data analysis using [Python](https://www.python.org/) programming language; (c) complete the CITI “Data or Specimens Only Research” course related with ethics in healthcare. During all the practical sessions, you should use ['Google Colab'](https://colab.research.google.com/notebooks/intro.ipynb#recent=true) cloud service to run your code (basic instructions how to get started are found [here](https://colab.research.google.com/notebooks/welcome.ipynb)). All practical sessions are graded. You must work in groups of two students and submit (only one submission) the completed notebook of the first practical session in Canvas by March 13th, 23:59:59 (GMT+1).\n",
        "\n",
        "---\n",
        "---\n",
        "\n",
        "*Lecturer/s: Bart Jansen (bjansen@etrovub.be),  Jef Vandemeulebroucke (jefvdmb@etrovub.be), Nikolaos Deligiannis (ndeligia@etrovub.be)*\n",
        "\n",
        "*Teaching assistant/s: Joris Wuts(jwuts@etrovub.be), Jasabanta Patro (jpatro@etrovub.be), Redona Brahimetaj (rbrahime@etrovub.be)*\n"
      ]
    },
    {
      "cell_type": "code",
      "metadata": {
        "id": "KvdwO1uaC6gC"
      },
      "source": [
        "student1_full_name = str(input('Enter your full name: '))\n",
        "student1_id = int(input('Enter your student ID: '))\n",
        "student2_full_name = str(input('Enter your full name: '))\n",
        "student2_id = int(input('Enter your student ID: '))"
      ],
      "execution_count": null,
      "outputs": []
    },
    {
      "cell_type": "markdown",
      "metadata": {
        "id": "4_zaHFgpIHT2"
      },
      "source": [
        "---\n",
        "---\n",
        "#Electronic Health Records (EHR)\n",
        "---\n",
        "\n",
        "---\n",
        "\n",
        "\n",
        "> As already seen during the lecture/s, EHRs contain an enormous amount of information (usually available in an unstructured format/free text). While humans can read the document and easily get the information they need, using their data for analysis or machine learning without structuring or preprocessing them firstly, is challenging. Considering examples found [here](https://www.mtsamples.com/index.asp) and what you saw/learned during lectures, please list what information is usually written/found there and some possible research use-cases using the information we get from them.\n",
        "\n",
        "\n",
        "\n",
        "---\n",
        "---"
      ]
    },
    {
      "cell_type": "markdown",
      "metadata": {
        "id": "2IEzC4yfK6bp"
      },
      "source": [
        "\n",
        "> Info inside an EHR\n",
        "\n",
        "*   List item\n",
        "*   List item\n",
        "*   ...\n",
        "\n",
        "> Possible research use-cases using EHR information:\n",
        "\n",
        "*   List item\n",
        "*   List item\n",
        "*   ....\n",
        "\n"
      ]
    },
    {
      "cell_type": "markdown",
      "metadata": {
        "id": "hQuhz8U-2klT"
      },
      "source": [
        "---\n",
        "---\n",
        "#Healthcare data analysis using Python\n",
        "---\n",
        "---\n",
        "To complete this part of the lab, you should use the excel files shared in Canvas ('noteevents.xlsx' and 'patients.xlsx'). The 'noteevents.xlsx' file, consists of four columns: subject_id (the patient identifier), chartdate (date when the note was created), category (what is the type of the note, e.g. urology, dentistry, orthopedic) and text (the EHR text portion of the note). The other excel file 'patients.xlsx', contains very basic structured information for patients (columns: subject_id (the patient identifier), gender (male or female), dob (date of birth)). You will be performing some basic analysis (using Python) which will help you to better understand the data available. To work with the excel files, you should use [pandas library](https://pandas.pydata.org/docs/getting_started/overview.html). For plotting, you are allowed to use [matplotlib](https://matplotlib.org/)/[seaborn](https://seaborn.pydata.org/)/[bokeh](https://bokeh.org//). \n",
        "\n",
        "---"
      ]
    },
    {
      "cell_type": "code",
      "metadata": {
        "id": "WUqsX5NP15YI"
      },
      "source": [
        "#import libraries\n",
        "import numpy as np, pandas as pd, seaborn as sns, matplotlib.pyplot as plt, bokeh\n",
        "from datetime import datetime, date "
      ],
      "execution_count": null,
      "outputs": []
    },
    {
      "cell_type": "markdown",
      "metadata": {
        "id": "TGQti-iXWrsg"
      },
      "source": [
        "##Basic analysis on patients using Python\n",
        "\n",
        "Perform some basic statistics on the 'patient.xlsx' file. \n",
        "\n",
        "*   Check if there are empty/NaN values on the dataframe.\n",
        "*   Find out if there is a gender balance among our patients.\n",
        "*   Plot the gender occurrencies.\n",
        "*   Add a new column 'age' in the dataframe. The age of each patient can be computed from 'dob' column. "
      ]
    },
    {
      "cell_type": "code",
      "metadata": {
        "id": "KnUiRniAFYdY"
      },
      "source": [
        "#read 'patient.xlsx' file into a DataFrame.\n",
        "\n",
        "#check if there are empty/NaN values\n",
        "\n",
        "#count and print the occurencies of male and female patients\n",
        "\n",
        "#plot their occurencies using one of the specified plotting libraries\n",
        "\n",
        "#compute age from 'dob' column: \n",
        "    # --> (a) use to_datetime() method to convert 'dob' to datetime format\n",
        "    # --> (b) create a function that returns the age from 'dob'\n",
        "    # --> (c) apply the function to the column 'dob'\n"
      ],
      "execution_count": null,
      "outputs": []
    },
    {
      "cell_type": "markdown",
      "metadata": {
        "id": "xf_DvWHyfsez"
      },
      "source": [
        "## Basic data analysis on EHR information using Python\n",
        "\n",
        "In this part, you will analyse the EHR information found in 'noteevents.xlsx' file. \n",
        "\n",
        "*   Find out how many distinct categories are found in 'notevents.xlsx' file.\n",
        "*   Merge noteevents and patient dataframe based on patient_id.\n",
        "*   Using pandas groupby() method print the mean age per gender.\n",
        "*   Filter the dataframe to return information only for male patients whose age is more than 50 years old. \n",
        "*   Plot which category has the highest amount of requests and this corresponding amount per gender.\n",
        "\n"
      ]
    },
    {
      "cell_type": "code",
      "metadata": {
        "id": "q4cxCan6hzQ9"
      },
      "source": [
        "#read 'noteevents.xlsx' file into a DataFrame.\n",
        "\n",
        "#print the unique values of 'category' column\n",
        "\n",
        "#merge noteevents and patient dataframe based on the patient_id\n",
        "\n",
        "#groupby() to show the mean age per gender\n",
        "\n",
        "#filter the dataframe to return information only for patients whose age is more than 50 years old. \n",
        "\n",
        "#plot which category has the highest amount of requests and this corresponding amount per gender"
      ],
      "execution_count": null,
      "outputs": []
    },
    {
      "cell_type": "markdown",
      "metadata": {
        "id": "2RIAtvipgJKU"
      },
      "source": [
        "---\n",
        "---\n",
        "#Requesting access to MIMIC-III\n",
        "---\n",
        "\n",
        "---\n",
        "\n",
        "\n",
        "> During the first exercise session, all students (from both BME and MACs program) will need to complete the CITI “Data or Specimens Only Research” course which will can take 2.5 hours approximately. All the knowledge you will learn while completing the report will help you to understand better the importance of ethics, privacy, confidentiality etc in health information systems. Each group, must  insert in the cell below a screenshot of your CITI completion report (each student should do this individually and independently, screenshots from both students should be attached below). Students enrolled in BME master program, in addition will need to request access to MIMIC-III dataset developed by the MIT Lab.  This database includes clinical notes, demographics, vital signs, laboratory tests and more which you will be using during some of the lab sessions or/and in your project. The dataset can not be downloaded directly, but one needs to submit a request first — which is usually approved within a couple of days. All the required information on how to request access can be found [here](https://mimic.physionet.org/gettingstarted/access/). Detailed information about each step to follow can be found in this [link](https://towardsdatascience.com/getting-access-to-mimic-iii-hospital-database-for-data-science-projects-791813feb735). You will need to attach the CITI completion report during your request submission. After succesfully submitting your request, you should recieve an email with subject \"PhysioNet credentialing application notification\" from PhysioNet confirming that you have succesfuly submitted your request. In addition to the CITI completion report, you must insert in the cell below a screenshot of this confirmation email to show that you already submitted the request to get access to the database (both students should submit!). \n",
        "\n",
        "---"
      ]
    },
    {
      "cell_type": "code",
      "metadata": {
        "id": "mzQbsk2r-8e7"
      },
      "source": [
        ""
      ],
      "execution_count": null,
      "outputs": []
    }
  ]
}