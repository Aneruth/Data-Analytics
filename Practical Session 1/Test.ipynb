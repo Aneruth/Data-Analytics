{
 "metadata": {
  "language_info": {
   "codemirror_mode": {
    "name": "ipython",
    "version": 3
   },
   "file_extension": ".py",
   "mimetype": "text/x-python",
   "name": "python",
   "nbconvert_exporter": "python",
   "pygments_lexer": "ipython3",
   "version": "3.8.5-final"
  },
  "orig_nbformat": 2,
  "kernelspec": {
   "name": "python3",
   "display_name": "Python 3.8.5 64-bit",
   "metadata": {
    "interpreter": {
     "hash": "aee8b7b246df8f9039afb4144a1f6fd8d2ca17a180786b69acc140d282b71a49"
    }
   }
  }
 },
 "nbformat": 4,
 "nbformat_minor": 2,
 "cells": [
  {
   "cell_type": "code",
   "execution_count": 1,
   "metadata": {},
   "outputs": [],
   "source": [
    "import pandas as pd \n",
    "import seaborn as sns\n",
    "import numpy as np\n",
    "from datetime import datetime,date\n",
    "\n",
    "%matplotlib inline"
   ]
  },
  {
   "cell_type": "code",
   "execution_count": 2,
   "metadata": {},
   "outputs": [],
   "source": [
    "df = pd.read_csv('CSV/patients.csv')"
   ]
  },
  {
   "source": [
    "### check if there are empty/NaN values"
   ],
   "cell_type": "markdown",
   "metadata": {}
  },
  {
   "cell_type": "code",
   "execution_count": 3,
   "metadata": {},
   "outputs": [
    {
     "output_type": "execute_result",
     "data": {
      "text/plain": [
       "     subject_id  gender    dob\n",
       "0         False   False  False\n",
       "1         False   False  False\n",
       "2         False   False  False\n",
       "3         False   False  False\n",
       "4         False   False  False\n",
       "..          ...     ...    ...\n",
       "295       False   False  False\n",
       "296       False   False  False\n",
       "297       False   False  False\n",
       "298       False   False  False\n",
       "299       False   False  False\n",
       "\n",
       "[300 rows x 3 columns]"
      ],
      "text/html": "<div>\n<style scoped>\n    .dataframe tbody tr th:only-of-type {\n        vertical-align: middle;\n    }\n\n    .dataframe tbody tr th {\n        vertical-align: top;\n    }\n\n    .dataframe thead th {\n        text-align: right;\n    }\n</style>\n<table border=\"1\" class=\"dataframe\">\n  <thead>\n    <tr style=\"text-align: right;\">\n      <th></th>\n      <th>subject_id</th>\n      <th>gender</th>\n      <th>dob</th>\n    </tr>\n  </thead>\n  <tbody>\n    <tr>\n      <th>0</th>\n      <td>False</td>\n      <td>False</td>\n      <td>False</td>\n    </tr>\n    <tr>\n      <th>1</th>\n      <td>False</td>\n      <td>False</td>\n      <td>False</td>\n    </tr>\n    <tr>\n      <th>2</th>\n      <td>False</td>\n      <td>False</td>\n      <td>False</td>\n    </tr>\n    <tr>\n      <th>3</th>\n      <td>False</td>\n      <td>False</td>\n      <td>False</td>\n    </tr>\n    <tr>\n      <th>4</th>\n      <td>False</td>\n      <td>False</td>\n      <td>False</td>\n    </tr>\n    <tr>\n      <th>...</th>\n      <td>...</td>\n      <td>...</td>\n      <td>...</td>\n    </tr>\n    <tr>\n      <th>295</th>\n      <td>False</td>\n      <td>False</td>\n      <td>False</td>\n    </tr>\n    <tr>\n      <th>296</th>\n      <td>False</td>\n      <td>False</td>\n      <td>False</td>\n    </tr>\n    <tr>\n      <th>297</th>\n      <td>False</td>\n      <td>False</td>\n      <td>False</td>\n    </tr>\n    <tr>\n      <th>298</th>\n      <td>False</td>\n      <td>False</td>\n      <td>False</td>\n    </tr>\n    <tr>\n      <th>299</th>\n      <td>False</td>\n      <td>False</td>\n      <td>False</td>\n    </tr>\n  </tbody>\n</table>\n<p>300 rows × 3 columns</p>\n</div>"
     },
     "metadata": {},
     "execution_count": 3
    }
   ],
   "source": [
    "# Method 1 \n",
    "isempty = df.empty\n",
    "\n",
    "# Method 2 \n",
    "df.isna()"
   ]
  },
  {
   "source": [
    "### count and print the occurencies of male and female patients"
   ],
   "cell_type": "markdown",
   "metadata": {}
  },
  {
   "cell_type": "code",
   "execution_count": 4,
   "metadata": {},
   "outputs": [
    {
     "output_type": "execute_result",
     "data": {
      "text/plain": [
       "F    160\n",
       "M    140\n",
       "Name: gender, dtype: int64"
      ]
     },
     "metadata": {},
     "execution_count": 4
    }
   ],
   "source": [
    "df['gender'].value_counts(dropna=False)"
   ]
  },
  {
   "source": [
    "### plot their occurencies using one of the specified plotting libraries"
   ],
   "cell_type": "markdown",
   "metadata": {}
  },
  {
   "cell_type": "code",
   "execution_count": 5,
   "metadata": {},
   "outputs": [
    {
     "output_type": "execute_result",
     "data": {
      "text/plain": [
       "<AxesSubplot:xlabel='gender', ylabel='count'>"
      ]
     },
     "metadata": {},
     "execution_count": 5
    },
    {
     "output_type": "display_data",
     "data": {
      "text/plain": "<Figure size 432x288 with 1 Axes>",
      "image/svg+xml": "<?xml version=\"1.0\" encoding=\"utf-8\" standalone=\"no\"?>\n<!DOCTYPE svg PUBLIC \"-//W3C//DTD SVG 1.1//EN\"\n  \"http://www.w3.org/Graphics/SVG/1.1/DTD/svg11.dtd\">\n<!-- Created with matplotlib (https://matplotlib.org/) -->\n<svg height=\"262.19625pt\" version=\"1.1\" viewBox=\"0 0 388.965625 262.19625\" width=\"388.965625pt\" xmlns=\"http://www.w3.org/2000/svg\" xmlns:xlink=\"http://www.w3.org/1999/xlink\">\n <metadata>\n  <rdf:RDF xmlns:cc=\"http://creativecommons.org/ns#\" xmlns:dc=\"http://purl.org/dc/elements/1.1/\" xmlns:rdf=\"http://www.w3.org/1999/02/22-rdf-syntax-ns#\">\n   <cc:Work>\n    <dc:type rdf:resource=\"http://purl.org/dc/dcmitype/StillImage\"/>\n    <dc:date>2021-03-09T18:30:17.155849</dc:date>\n    <dc:format>image/svg+xml</dc:format>\n    <dc:creator>\n     <cc:Agent>\n      <dc:title>Matplotlib v3.3.4, https://matplotlib.org/</dc:title>\n     </cc:Agent>\n    </dc:creator>\n   </cc:Work>\n  </rdf:RDF>\n </metadata>\n <defs>\n  <style type=\"text/css\">*{stroke-linecap:butt;stroke-linejoin:round;}</style>\n </defs>\n <g id=\"figure_1\">\n  <g id=\"patch_1\">\n   <path d=\"M -0 262.19625 \nL 388.965625 262.19625 \nL 388.965625 0 \nL -0 0 \nz\n\" style=\"fill:none;\"/>\n  </g>\n  <g id=\"axes_1\">\n   <g id=\"patch_2\">\n    <path d=\"M 46.965625 224.64 \nL 381.765625 224.64 \nL 381.765625 7.2 \nL 46.965625 7.2 \nz\n\" style=\"fill:#ffffff;\"/>\n   </g>\n   <g id=\"patch_3\">\n    <path clip-path=\"url(#p8fd737cfb2)\" d=\"M 63.705625 224.64 \nL 197.625625 224.64 \nL 197.625625 43.44 \nL 63.705625 43.44 \nz\n\" style=\"fill:#3274a1;\"/>\n   </g>\n   <g id=\"patch_4\">\n    <path clip-path=\"url(#p8fd737cfb2)\" d=\"M 231.105625 224.64 \nL 365.025625 224.64 \nL 365.025625 17.554286 \nL 231.105625 17.554286 \nz\n\" style=\"fill:#e1812c;\"/>\n   </g>\n   <g id=\"matplotlib.axis_1\">\n    <g id=\"xtick_1\">\n     <g id=\"line2d_1\">\n      <defs>\n       <path d=\"M 0 0 \nL 0 3.5 \n\" id=\"mcca0c56fdb\" style=\"stroke:#000000;stroke-width:0.8;\"/>\n      </defs>\n      <g>\n       <use style=\"stroke:#000000;stroke-width:0.8;\" x=\"130.665625\" xlink:href=\"#mcca0c56fdb\" y=\"224.64\"/>\n      </g>\n     </g>\n     <g id=\"text_1\">\n      <!-- M -->\n      <g transform=\"translate(126.351562 239.238437)scale(0.1 -0.1)\">\n       <defs>\n        <path d=\"M 9.8125 72.90625 \nL 24.515625 72.90625 \nL 43.109375 23.296875 \nL 61.8125 72.90625 \nL 76.515625 72.90625 \nL 76.515625 0 \nL 66.890625 0 \nL 66.890625 64.015625 \nL 48.09375 14.015625 \nL 38.1875 14.015625 \nL 19.390625 64.015625 \nL 19.390625 0 \nL 9.8125 0 \nz\n\" id=\"DejaVuSans-77\"/>\n       </defs>\n       <use xlink:href=\"#DejaVuSans-77\"/>\n      </g>\n     </g>\n    </g>\n    <g id=\"xtick_2\">\n     <g id=\"line2d_2\">\n      <g>\n       <use style=\"stroke:#000000;stroke-width:0.8;\" x=\"298.065625\" xlink:href=\"#mcca0c56fdb\" y=\"224.64\"/>\n      </g>\n     </g>\n     <g id=\"text_2\">\n      <!-- F -->\n      <g transform=\"translate(295.189844 239.238437)scale(0.1 -0.1)\">\n       <defs>\n        <path d=\"M 9.8125 72.90625 \nL 51.703125 72.90625 \nL 51.703125 64.59375 \nL 19.671875 64.59375 \nL 19.671875 43.109375 \nL 48.578125 43.109375 \nL 48.578125 34.8125 \nL 19.671875 34.8125 \nL 19.671875 0 \nL 9.8125 0 \nz\n\" id=\"DejaVuSans-70\"/>\n       </defs>\n       <use xlink:href=\"#DejaVuSans-70\"/>\n      </g>\n     </g>\n    </g>\n    <g id=\"text_3\">\n     <!-- gender -->\n     <g transform=\"translate(196.639844 252.916562)scale(0.1 -0.1)\">\n      <defs>\n       <path d=\"M 45.40625 27.984375 \nQ 45.40625 37.75 41.375 43.109375 \nQ 37.359375 48.484375 30.078125 48.484375 \nQ 22.859375 48.484375 18.828125 43.109375 \nQ 14.796875 37.75 14.796875 27.984375 \nQ 14.796875 18.265625 18.828125 12.890625 \nQ 22.859375 7.515625 30.078125 7.515625 \nQ 37.359375 7.515625 41.375 12.890625 \nQ 45.40625 18.265625 45.40625 27.984375 \nz\nM 54.390625 6.78125 \nQ 54.390625 -7.171875 48.1875 -13.984375 \nQ 42 -20.796875 29.203125 -20.796875 \nQ 24.46875 -20.796875 20.265625 -20.09375 \nQ 16.0625 -19.390625 12.109375 -17.921875 \nL 12.109375 -9.1875 \nQ 16.0625 -11.328125 19.921875 -12.34375 \nQ 23.78125 -13.375 27.78125 -13.375 \nQ 36.625 -13.375 41.015625 -8.765625 \nQ 45.40625 -4.15625 45.40625 5.171875 \nL 45.40625 9.625 \nQ 42.625 4.78125 38.28125 2.390625 \nQ 33.9375 0 27.875 0 \nQ 17.828125 0 11.671875 7.65625 \nQ 5.515625 15.328125 5.515625 27.984375 \nQ 5.515625 40.671875 11.671875 48.328125 \nQ 17.828125 56 27.875 56 \nQ 33.9375 56 38.28125 53.609375 \nQ 42.625 51.21875 45.40625 46.390625 \nL 45.40625 54.6875 \nL 54.390625 54.6875 \nz\n\" id=\"DejaVuSans-103\"/>\n       <path d=\"M 56.203125 29.59375 \nL 56.203125 25.203125 \nL 14.890625 25.203125 \nQ 15.484375 15.921875 20.484375 11.0625 \nQ 25.484375 6.203125 34.421875 6.203125 \nQ 39.59375 6.203125 44.453125 7.46875 \nQ 49.3125 8.734375 54.109375 11.28125 \nL 54.109375 2.78125 \nQ 49.265625 0.734375 44.1875 -0.34375 \nQ 39.109375 -1.421875 33.890625 -1.421875 \nQ 20.796875 -1.421875 13.15625 6.1875 \nQ 5.515625 13.8125 5.515625 26.8125 \nQ 5.515625 40.234375 12.765625 48.109375 \nQ 20.015625 56 32.328125 56 \nQ 43.359375 56 49.78125 48.890625 \nQ 56.203125 41.796875 56.203125 29.59375 \nz\nM 47.21875 32.234375 \nQ 47.125 39.59375 43.09375 43.984375 \nQ 39.0625 48.390625 32.421875 48.390625 \nQ 24.90625 48.390625 20.390625 44.140625 \nQ 15.875 39.890625 15.1875 32.171875 \nz\n\" id=\"DejaVuSans-101\"/>\n       <path d=\"M 54.890625 33.015625 \nL 54.890625 0 \nL 45.90625 0 \nL 45.90625 32.71875 \nQ 45.90625 40.484375 42.875 44.328125 \nQ 39.84375 48.1875 33.796875 48.1875 \nQ 26.515625 48.1875 22.3125 43.546875 \nQ 18.109375 38.921875 18.109375 30.90625 \nL 18.109375 0 \nL 9.078125 0 \nL 9.078125 54.6875 \nL 18.109375 54.6875 \nL 18.109375 46.1875 \nQ 21.34375 51.125 25.703125 53.5625 \nQ 30.078125 56 35.796875 56 \nQ 45.21875 56 50.046875 50.171875 \nQ 54.890625 44.34375 54.890625 33.015625 \nz\n\" id=\"DejaVuSans-110\"/>\n       <path d=\"M 45.40625 46.390625 \nL 45.40625 75.984375 \nL 54.390625 75.984375 \nL 54.390625 0 \nL 45.40625 0 \nL 45.40625 8.203125 \nQ 42.578125 3.328125 38.25 0.953125 \nQ 33.9375 -1.421875 27.875 -1.421875 \nQ 17.96875 -1.421875 11.734375 6.484375 \nQ 5.515625 14.40625 5.515625 27.296875 \nQ 5.515625 40.1875 11.734375 48.09375 \nQ 17.96875 56 27.875 56 \nQ 33.9375 56 38.25 53.625 \nQ 42.578125 51.265625 45.40625 46.390625 \nz\nM 14.796875 27.296875 \nQ 14.796875 17.390625 18.875 11.75 \nQ 22.953125 6.109375 30.078125 6.109375 \nQ 37.203125 6.109375 41.296875 11.75 \nQ 45.40625 17.390625 45.40625 27.296875 \nQ 45.40625 37.203125 41.296875 42.84375 \nQ 37.203125 48.484375 30.078125 48.484375 \nQ 22.953125 48.484375 18.875 42.84375 \nQ 14.796875 37.203125 14.796875 27.296875 \nz\n\" id=\"DejaVuSans-100\"/>\n       <path d=\"M 41.109375 46.296875 \nQ 39.59375 47.171875 37.8125 47.578125 \nQ 36.03125 48 33.890625 48 \nQ 26.265625 48 22.1875 43.046875 \nQ 18.109375 38.09375 18.109375 28.8125 \nL 18.109375 0 \nL 9.078125 0 \nL 9.078125 54.6875 \nL 18.109375 54.6875 \nL 18.109375 46.1875 \nQ 20.953125 51.171875 25.484375 53.578125 \nQ 30.03125 56 36.53125 56 \nQ 37.453125 56 38.578125 55.875 \nQ 39.703125 55.765625 41.0625 55.515625 \nz\n\" id=\"DejaVuSans-114\"/>\n      </defs>\n      <use xlink:href=\"#DejaVuSans-103\"/>\n      <use x=\"63.476562\" xlink:href=\"#DejaVuSans-101\"/>\n      <use x=\"125\" xlink:href=\"#DejaVuSans-110\"/>\n      <use x=\"188.378906\" xlink:href=\"#DejaVuSans-100\"/>\n      <use x=\"251.855469\" xlink:href=\"#DejaVuSans-101\"/>\n      <use x=\"313.378906\" xlink:href=\"#DejaVuSans-114\"/>\n     </g>\n    </g>\n   </g>\n   <g id=\"matplotlib.axis_2\">\n    <g id=\"ytick_1\">\n     <g id=\"line2d_3\">\n      <defs>\n       <path d=\"M 0 0 \nL -3.5 0 \n\" id=\"m3cb4611452\" style=\"stroke:#000000;stroke-width:0.8;\"/>\n      </defs>\n      <g>\n       <use style=\"stroke:#000000;stroke-width:0.8;\" x=\"46.965625\" xlink:href=\"#m3cb4611452\" y=\"224.64\"/>\n      </g>\n     </g>\n     <g id=\"text_4\">\n      <!-- 0 -->\n      <g transform=\"translate(33.603125 228.439219)scale(0.1 -0.1)\">\n       <defs>\n        <path d=\"M 31.78125 66.40625 \nQ 24.171875 66.40625 20.328125 58.90625 \nQ 16.5 51.421875 16.5 36.375 \nQ 16.5 21.390625 20.328125 13.890625 \nQ 24.171875 6.390625 31.78125 6.390625 \nQ 39.453125 6.390625 43.28125 13.890625 \nQ 47.125 21.390625 47.125 36.375 \nQ 47.125 51.421875 43.28125 58.90625 \nQ 39.453125 66.40625 31.78125 66.40625 \nz\nM 31.78125 74.21875 \nQ 44.046875 74.21875 50.515625 64.515625 \nQ 56.984375 54.828125 56.984375 36.375 \nQ 56.984375 17.96875 50.515625 8.265625 \nQ 44.046875 -1.421875 31.78125 -1.421875 \nQ 19.53125 -1.421875 13.0625 8.265625 \nQ 6.59375 17.96875 6.59375 36.375 \nQ 6.59375 54.828125 13.0625 64.515625 \nQ 19.53125 74.21875 31.78125 74.21875 \nz\n\" id=\"DejaVuSans-48\"/>\n       </defs>\n       <use xlink:href=\"#DejaVuSans-48\"/>\n      </g>\n     </g>\n    </g>\n    <g id=\"ytick_2\">\n     <g id=\"line2d_4\">\n      <g>\n       <use style=\"stroke:#000000;stroke-width:0.8;\" x=\"46.965625\" xlink:href=\"#m3cb4611452\" y=\"198.754286\"/>\n      </g>\n     </g>\n     <g id=\"text_5\">\n      <!-- 20 -->\n      <g transform=\"translate(27.240625 202.553504)scale(0.1 -0.1)\">\n       <defs>\n        <path d=\"M 19.1875 8.296875 \nL 53.609375 8.296875 \nL 53.609375 0 \nL 7.328125 0 \nL 7.328125 8.296875 \nQ 12.9375 14.109375 22.625 23.890625 \nQ 32.328125 33.6875 34.8125 36.53125 \nQ 39.546875 41.84375 41.421875 45.53125 \nQ 43.3125 49.21875 43.3125 52.78125 \nQ 43.3125 58.59375 39.234375 62.25 \nQ 35.15625 65.921875 28.609375 65.921875 \nQ 23.96875 65.921875 18.8125 64.3125 \nQ 13.671875 62.703125 7.8125 59.421875 \nL 7.8125 69.390625 \nQ 13.765625 71.78125 18.9375 73 \nQ 24.125 74.21875 28.421875 74.21875 \nQ 39.75 74.21875 46.484375 68.546875 \nQ 53.21875 62.890625 53.21875 53.421875 \nQ 53.21875 48.921875 51.53125 44.890625 \nQ 49.859375 40.875 45.40625 35.40625 \nQ 44.1875 33.984375 37.640625 27.21875 \nQ 31.109375 20.453125 19.1875 8.296875 \nz\n\" id=\"DejaVuSans-50\"/>\n       </defs>\n       <use xlink:href=\"#DejaVuSans-50\"/>\n       <use x=\"63.623047\" xlink:href=\"#DejaVuSans-48\"/>\n      </g>\n     </g>\n    </g>\n    <g id=\"ytick_3\">\n     <g id=\"line2d_5\">\n      <g>\n       <use style=\"stroke:#000000;stroke-width:0.8;\" x=\"46.965625\" xlink:href=\"#m3cb4611452\" y=\"172.868571\"/>\n      </g>\n     </g>\n     <g id=\"text_6\">\n      <!-- 40 -->\n      <g transform=\"translate(27.240625 176.66779)scale(0.1 -0.1)\">\n       <defs>\n        <path d=\"M 37.796875 64.3125 \nL 12.890625 25.390625 \nL 37.796875 25.390625 \nz\nM 35.203125 72.90625 \nL 47.609375 72.90625 \nL 47.609375 25.390625 \nL 58.015625 25.390625 \nL 58.015625 17.1875 \nL 47.609375 17.1875 \nL 47.609375 0 \nL 37.796875 0 \nL 37.796875 17.1875 \nL 4.890625 17.1875 \nL 4.890625 26.703125 \nz\n\" id=\"DejaVuSans-52\"/>\n       </defs>\n       <use xlink:href=\"#DejaVuSans-52\"/>\n       <use x=\"63.623047\" xlink:href=\"#DejaVuSans-48\"/>\n      </g>\n     </g>\n    </g>\n    <g id=\"ytick_4\">\n     <g id=\"line2d_6\">\n      <g>\n       <use style=\"stroke:#000000;stroke-width:0.8;\" x=\"46.965625\" xlink:href=\"#m3cb4611452\" y=\"146.982857\"/>\n      </g>\n     </g>\n     <g id=\"text_7\">\n      <!-- 60 -->\n      <g transform=\"translate(27.240625 150.782076)scale(0.1 -0.1)\">\n       <defs>\n        <path d=\"M 33.015625 40.375 \nQ 26.375 40.375 22.484375 35.828125 \nQ 18.609375 31.296875 18.609375 23.390625 \nQ 18.609375 15.53125 22.484375 10.953125 \nQ 26.375 6.390625 33.015625 6.390625 \nQ 39.65625 6.390625 43.53125 10.953125 \nQ 47.40625 15.53125 47.40625 23.390625 \nQ 47.40625 31.296875 43.53125 35.828125 \nQ 39.65625 40.375 33.015625 40.375 \nz\nM 52.59375 71.296875 \nL 52.59375 62.3125 \nQ 48.875 64.0625 45.09375 64.984375 \nQ 41.3125 65.921875 37.59375 65.921875 \nQ 27.828125 65.921875 22.671875 59.328125 \nQ 17.53125 52.734375 16.796875 39.40625 \nQ 19.671875 43.65625 24.015625 45.921875 \nQ 28.375 48.1875 33.59375 48.1875 \nQ 44.578125 48.1875 50.953125 41.515625 \nQ 57.328125 34.859375 57.328125 23.390625 \nQ 57.328125 12.15625 50.6875 5.359375 \nQ 44.046875 -1.421875 33.015625 -1.421875 \nQ 20.359375 -1.421875 13.671875 8.265625 \nQ 6.984375 17.96875 6.984375 36.375 \nQ 6.984375 53.65625 15.1875 63.9375 \nQ 23.390625 74.21875 37.203125 74.21875 \nQ 40.921875 74.21875 44.703125 73.484375 \nQ 48.484375 72.75 52.59375 71.296875 \nz\n\" id=\"DejaVuSans-54\"/>\n       </defs>\n       <use xlink:href=\"#DejaVuSans-54\"/>\n       <use x=\"63.623047\" xlink:href=\"#DejaVuSans-48\"/>\n      </g>\n     </g>\n    </g>\n    <g id=\"ytick_5\">\n     <g id=\"line2d_7\">\n      <g>\n       <use style=\"stroke:#000000;stroke-width:0.8;\" x=\"46.965625\" xlink:href=\"#m3cb4611452\" y=\"121.097143\"/>\n      </g>\n     </g>\n     <g id=\"text_8\">\n      <!-- 80 -->\n      <g transform=\"translate(27.240625 124.896362)scale(0.1 -0.1)\">\n       <defs>\n        <path d=\"M 31.78125 34.625 \nQ 24.75 34.625 20.71875 30.859375 \nQ 16.703125 27.09375 16.703125 20.515625 \nQ 16.703125 13.921875 20.71875 10.15625 \nQ 24.75 6.390625 31.78125 6.390625 \nQ 38.8125 6.390625 42.859375 10.171875 \nQ 46.921875 13.96875 46.921875 20.515625 \nQ 46.921875 27.09375 42.890625 30.859375 \nQ 38.875 34.625 31.78125 34.625 \nz\nM 21.921875 38.8125 \nQ 15.578125 40.375 12.03125 44.71875 \nQ 8.5 49.078125 8.5 55.328125 \nQ 8.5 64.0625 14.71875 69.140625 \nQ 20.953125 74.21875 31.78125 74.21875 \nQ 42.671875 74.21875 48.875 69.140625 \nQ 55.078125 64.0625 55.078125 55.328125 \nQ 55.078125 49.078125 51.53125 44.71875 \nQ 48 40.375 41.703125 38.8125 \nQ 48.828125 37.15625 52.796875 32.3125 \nQ 56.78125 27.484375 56.78125 20.515625 \nQ 56.78125 9.90625 50.3125 4.234375 \nQ 43.84375 -1.421875 31.78125 -1.421875 \nQ 19.734375 -1.421875 13.25 4.234375 \nQ 6.78125 9.90625 6.78125 20.515625 \nQ 6.78125 27.484375 10.78125 32.3125 \nQ 14.796875 37.15625 21.921875 38.8125 \nz\nM 18.3125 54.390625 \nQ 18.3125 48.734375 21.84375 45.5625 \nQ 25.390625 42.390625 31.78125 42.390625 \nQ 38.140625 42.390625 41.71875 45.5625 \nQ 45.3125 48.734375 45.3125 54.390625 \nQ 45.3125 60.0625 41.71875 63.234375 \nQ 38.140625 66.40625 31.78125 66.40625 \nQ 25.390625 66.40625 21.84375 63.234375 \nQ 18.3125 60.0625 18.3125 54.390625 \nz\n\" id=\"DejaVuSans-56\"/>\n       </defs>\n       <use xlink:href=\"#DejaVuSans-56\"/>\n       <use x=\"63.623047\" xlink:href=\"#DejaVuSans-48\"/>\n      </g>\n     </g>\n    </g>\n    <g id=\"ytick_6\">\n     <g id=\"line2d_8\">\n      <g>\n       <use style=\"stroke:#000000;stroke-width:0.8;\" x=\"46.965625\" xlink:href=\"#m3cb4611452\" y=\"95.211429\"/>\n      </g>\n     </g>\n     <g id=\"text_9\">\n      <!-- 100 -->\n      <g transform=\"translate(20.878125 99.010647)scale(0.1 -0.1)\">\n       <defs>\n        <path d=\"M 12.40625 8.296875 \nL 28.515625 8.296875 \nL 28.515625 63.921875 \nL 10.984375 60.40625 \nL 10.984375 69.390625 \nL 28.421875 72.90625 \nL 38.28125 72.90625 \nL 38.28125 8.296875 \nL 54.390625 8.296875 \nL 54.390625 0 \nL 12.40625 0 \nz\n\" id=\"DejaVuSans-49\"/>\n       </defs>\n       <use xlink:href=\"#DejaVuSans-49\"/>\n       <use x=\"63.623047\" xlink:href=\"#DejaVuSans-48\"/>\n       <use x=\"127.246094\" xlink:href=\"#DejaVuSans-48\"/>\n      </g>\n     </g>\n    </g>\n    <g id=\"ytick_7\">\n     <g id=\"line2d_9\">\n      <g>\n       <use style=\"stroke:#000000;stroke-width:0.8;\" x=\"46.965625\" xlink:href=\"#m3cb4611452\" y=\"69.325714\"/>\n      </g>\n     </g>\n     <g id=\"text_10\">\n      <!-- 120 -->\n      <g transform=\"translate(20.878125 73.124933)scale(0.1 -0.1)\">\n       <use xlink:href=\"#DejaVuSans-49\"/>\n       <use x=\"63.623047\" xlink:href=\"#DejaVuSans-50\"/>\n       <use x=\"127.246094\" xlink:href=\"#DejaVuSans-48\"/>\n      </g>\n     </g>\n    </g>\n    <g id=\"ytick_8\">\n     <g id=\"line2d_10\">\n      <g>\n       <use style=\"stroke:#000000;stroke-width:0.8;\" x=\"46.965625\" xlink:href=\"#m3cb4611452\" y=\"43.44\"/>\n      </g>\n     </g>\n     <g id=\"text_11\">\n      <!-- 140 -->\n      <g transform=\"translate(20.878125 47.239219)scale(0.1 -0.1)\">\n       <use xlink:href=\"#DejaVuSans-49\"/>\n       <use x=\"63.623047\" xlink:href=\"#DejaVuSans-52\"/>\n       <use x=\"127.246094\" xlink:href=\"#DejaVuSans-48\"/>\n      </g>\n     </g>\n    </g>\n    <g id=\"ytick_9\">\n     <g id=\"line2d_11\">\n      <g>\n       <use style=\"stroke:#000000;stroke-width:0.8;\" x=\"46.965625\" xlink:href=\"#m3cb4611452\" y=\"17.554286\"/>\n      </g>\n     </g>\n     <g id=\"text_12\">\n      <!-- 160 -->\n      <g transform=\"translate(20.878125 21.353504)scale(0.1 -0.1)\">\n       <use xlink:href=\"#DejaVuSans-49\"/>\n       <use x=\"63.623047\" xlink:href=\"#DejaVuSans-54\"/>\n       <use x=\"127.246094\" xlink:href=\"#DejaVuSans-48\"/>\n      </g>\n     </g>\n    </g>\n    <g id=\"text_13\">\n     <!-- count -->\n     <g transform=\"translate(14.798438 130.02625)rotate(-90)scale(0.1 -0.1)\">\n      <defs>\n       <path d=\"M 48.78125 52.59375 \nL 48.78125 44.1875 \nQ 44.96875 46.296875 41.140625 47.34375 \nQ 37.3125 48.390625 33.40625 48.390625 \nQ 24.65625 48.390625 19.8125 42.84375 \nQ 14.984375 37.3125 14.984375 27.296875 \nQ 14.984375 17.28125 19.8125 11.734375 \nQ 24.65625 6.203125 33.40625 6.203125 \nQ 37.3125 6.203125 41.140625 7.25 \nQ 44.96875 8.296875 48.78125 10.40625 \nL 48.78125 2.09375 \nQ 45.015625 0.34375 40.984375 -0.53125 \nQ 36.96875 -1.421875 32.421875 -1.421875 \nQ 20.0625 -1.421875 12.78125 6.34375 \nQ 5.515625 14.109375 5.515625 27.296875 \nQ 5.515625 40.671875 12.859375 48.328125 \nQ 20.21875 56 33.015625 56 \nQ 37.15625 56 41.109375 55.140625 \nQ 45.0625 54.296875 48.78125 52.59375 \nz\n\" id=\"DejaVuSans-99\"/>\n       <path d=\"M 30.609375 48.390625 \nQ 23.390625 48.390625 19.1875 42.75 \nQ 14.984375 37.109375 14.984375 27.296875 \nQ 14.984375 17.484375 19.15625 11.84375 \nQ 23.34375 6.203125 30.609375 6.203125 \nQ 37.796875 6.203125 41.984375 11.859375 \nQ 46.1875 17.53125 46.1875 27.296875 \nQ 46.1875 37.015625 41.984375 42.703125 \nQ 37.796875 48.390625 30.609375 48.390625 \nz\nM 30.609375 56 \nQ 42.328125 56 49.015625 48.375 \nQ 55.71875 40.765625 55.71875 27.296875 \nQ 55.71875 13.875 49.015625 6.21875 \nQ 42.328125 -1.421875 30.609375 -1.421875 \nQ 18.84375 -1.421875 12.171875 6.21875 \nQ 5.515625 13.875 5.515625 27.296875 \nQ 5.515625 40.765625 12.171875 48.375 \nQ 18.84375 56 30.609375 56 \nz\n\" id=\"DejaVuSans-111\"/>\n       <path d=\"M 8.5 21.578125 \nL 8.5 54.6875 \nL 17.484375 54.6875 \nL 17.484375 21.921875 \nQ 17.484375 14.15625 20.5 10.265625 \nQ 23.53125 6.390625 29.59375 6.390625 \nQ 36.859375 6.390625 41.078125 11.03125 \nQ 45.3125 15.671875 45.3125 23.6875 \nL 45.3125 54.6875 \nL 54.296875 54.6875 \nL 54.296875 0 \nL 45.3125 0 \nL 45.3125 8.40625 \nQ 42.046875 3.421875 37.71875 1 \nQ 33.40625 -1.421875 27.6875 -1.421875 \nQ 18.265625 -1.421875 13.375 4.4375 \nQ 8.5 10.296875 8.5 21.578125 \nz\nM 31.109375 56 \nz\n\" id=\"DejaVuSans-117\"/>\n       <path d=\"M 18.3125 70.21875 \nL 18.3125 54.6875 \nL 36.8125 54.6875 \nL 36.8125 47.703125 \nL 18.3125 47.703125 \nL 18.3125 18.015625 \nQ 18.3125 11.328125 20.140625 9.421875 \nQ 21.96875 7.515625 27.59375 7.515625 \nL 36.8125 7.515625 \nL 36.8125 0 \nL 27.59375 0 \nQ 17.1875 0 13.234375 3.875 \nQ 9.28125 7.765625 9.28125 18.015625 \nL 9.28125 47.703125 \nL 2.6875 47.703125 \nL 2.6875 54.6875 \nL 9.28125 54.6875 \nL 9.28125 70.21875 \nz\n\" id=\"DejaVuSans-116\"/>\n      </defs>\n      <use xlink:href=\"#DejaVuSans-99\"/>\n      <use x=\"54.980469\" xlink:href=\"#DejaVuSans-111\"/>\n      <use x=\"116.162109\" xlink:href=\"#DejaVuSans-117\"/>\n      <use x=\"179.541016\" xlink:href=\"#DejaVuSans-110\"/>\n      <use x=\"242.919922\" xlink:href=\"#DejaVuSans-116\"/>\n     </g>\n    </g>\n   </g>\n   <g id=\"patch_5\">\n    <path d=\"M 46.965625 224.64 \nL 46.965625 7.2 \n\" style=\"fill:none;stroke:#000000;stroke-linecap:square;stroke-linejoin:miter;stroke-width:0.8;\"/>\n   </g>\n   <g id=\"patch_6\">\n    <path d=\"M 381.765625 224.64 \nL 381.765625 7.2 \n\" style=\"fill:none;stroke:#000000;stroke-linecap:square;stroke-linejoin:miter;stroke-width:0.8;\"/>\n   </g>\n   <g id=\"patch_7\">\n    <path d=\"M 46.965625 224.64 \nL 381.765625 224.64 \n\" style=\"fill:none;stroke:#000000;stroke-linecap:square;stroke-linejoin:miter;stroke-width:0.8;\"/>\n   </g>\n   <g id=\"patch_8\">\n    <path d=\"M 46.965625 7.2 \nL 381.765625 7.2 \n\" style=\"fill:none;stroke:#000000;stroke-linecap:square;stroke-linejoin:miter;stroke-width:0.8;\"/>\n   </g>\n  </g>\n </g>\n <defs>\n  <clipPath id=\"p8fd737cfb2\">\n   <rect height=\"217.44\" width=\"334.8\" x=\"46.965625\" y=\"7.2\"/>\n  </clipPath>\n </defs>\n</svg>\n",
      "image/png": "[encoded data removed]"
     },
     "metadata": {
      "needs_background": "light"
     }
    }
   ],
   "source": [
    "sns.countplot(x='gender',data=df)"
   ]
  },
  {
   "cell_type": "code",
   "execution_count": 6,
   "metadata": {},
   "outputs": [
    {
     "output_type": "execute_result",
     "data": {
      "text/plain": [
       "   subject_id gender        dob       Date\n",
       "0           0      M   1/1/2000 2000-01-01\n",
       "1           1      F  1/10/1969 1969-01-10\n",
       "2           2      F   8/6/1995 1995-08-06\n",
       "3           3      M   6/1/1967 1967-06-01\n",
       "4           4      M   6/2/1963 1963-06-02"
      ],
      "text/html": "<div>\n<style scoped>\n    .dataframe tbody tr th:only-of-type {\n        vertical-align: middle;\n    }\n\n    .dataframe tbody tr th {\n        vertical-align: top;\n    }\n\n    .dataframe thead th {\n        text-align: right;\n    }\n</style>\n<table border=\"1\" class=\"dataframe\">\n  <thead>\n    <tr style=\"text-align: right;\">\n      <th></th>\n      <th>subject_id</th>\n      <th>gender</th>\n      <th>dob</th>\n      <th>Date</th>\n    </tr>\n  </thead>\n  <tbody>\n    <tr>\n      <th>0</th>\n      <td>0</td>\n      <td>M</td>\n      <td>1/1/2000</td>\n      <td>2000-01-01</td>\n    </tr>\n    <tr>\n      <th>1</th>\n      <td>1</td>\n      <td>F</td>\n      <td>1/10/1969</td>\n      <td>1969-01-10</td>\n    </tr>\n    <tr>\n      <th>2</th>\n      <td>2</td>\n      <td>F</td>\n      <td>8/6/1995</td>\n      <td>1995-08-06</td>\n    </tr>\n    <tr>\n      <th>3</th>\n      <td>3</td>\n      <td>M</td>\n      <td>6/1/1967</td>\n      <td>1967-06-01</td>\n    </tr>\n    <tr>\n      <th>4</th>\n      <td>4</td>\n      <td>M</td>\n      <td>6/2/1963</td>\n      <td>1963-06-02</td>\n    </tr>\n  </tbody>\n</table>\n</div>"
     },
     "metadata": {},
     "execution_count": 6
    }
   ],
   "source": [
    "### compute age from 'dob' column:\n",
    "\n",
    "# a) use to_datetime() method to convert 'dob' to datetime format\n",
    "df['Date'] = pd.to_datetime(df['dob'], errors='coerce')\n",
    "df.head()"
   ]
  },
  {
   "cell_type": "code",
   "execution_count": 7,
   "metadata": {},
   "outputs": [
    {
     "output_type": "execute_result",
     "data": {
      "text/plain": [
       "   subject_id gender        dob       Date   age\n",
       "0           0      M   1/1/2000 2000-01-01  21.0\n",
       "1           1      F  1/10/1969 1969-01-10  52.0\n",
       "2           2      F   8/6/1995 1995-08-06  25.0\n",
       "3           3      M   6/1/1967 1967-06-01  53.0\n",
       "4           4      M   6/2/1963 1963-06-02  57.0"
      ],
      "text/html": "<div>\n<style scoped>\n    .dataframe tbody tr th:only-of-type {\n        vertical-align: middle;\n    }\n\n    .dataframe tbody tr th {\n        vertical-align: top;\n    }\n\n    .dataframe thead th {\n        text-align: right;\n    }\n</style>\n<table border=\"1\" class=\"dataframe\">\n  <thead>\n    <tr style=\"text-align: right;\">\n      <th></th>\n      <th>subject_id</th>\n      <th>gender</th>\n      <th>dob</th>\n      <th>Date</th>\n      <th>age</th>\n    </tr>\n  </thead>\n  <tbody>\n    <tr>\n      <th>0</th>\n      <td>0</td>\n      <td>M</td>\n      <td>1/1/2000</td>\n      <td>2000-01-01</td>\n      <td>21.0</td>\n    </tr>\n    <tr>\n      <th>1</th>\n      <td>1</td>\n      <td>F</td>\n      <td>1/10/1969</td>\n      <td>1969-01-10</td>\n      <td>52.0</td>\n    </tr>\n    <tr>\n      <th>2</th>\n      <td>2</td>\n      <td>F</td>\n      <td>8/6/1995</td>\n      <td>1995-08-06</td>\n      <td>25.0</td>\n    </tr>\n    <tr>\n      <th>3</th>\n      <td>3</td>\n      <td>M</td>\n      <td>6/1/1967</td>\n      <td>1967-06-01</td>\n      <td>53.0</td>\n    </tr>\n    <tr>\n      <th>4</th>\n      <td>4</td>\n      <td>M</td>\n      <td>6/2/1963</td>\n      <td>1963-06-02</td>\n      <td>57.0</td>\n    </tr>\n  </tbody>\n</table>\n</div>"
     },
     "metadata": {},
     "execution_count": 7
    }
   ],
   "source": [
    "df[\"age\"] = (pd.to_datetime('now') - df[\"Date\"]).astype('<m8[Y]')\n",
    "df.head()"
   ]
  },
  {
   "cell_type": "code",
   "execution_count": 8,
   "metadata": {},
   "outputs": [
    {
     "output_type": "execute_result",
     "data": {
      "text/plain": [
       "0      21.0\n",
       "1      52.0\n",
       "2      25.0\n",
       "3      53.0\n",
       "4      57.0\n",
       "       ... \n",
       "295    52.0\n",
       "296    57.0\n",
       "297    21.0\n",
       "298    53.0\n",
       "299    21.0\n",
       "Name: Date, Length: 300, dtype: float64"
      ]
     },
     "metadata": {},
     "execution_count": 8
    }
   ],
   "source": [
    "def age(Date):\n",
    "    age = (pd.to_datetime('now') - df[\"Date\"]).astype('<m8[Y]')\n",
    "    return age\n",
    "age(df['Date'])"
   ]
  },
  {
   "source": [
    "## Kates' Part"
   ],
   "cell_type": "markdown",
   "metadata": {}
  },
  {
   "cell_type": "code",
   "execution_count": 9,
   "metadata": {},
   "outputs": [
    {
     "output_type": "execute_result",
     "data": {
      "text/plain": [
       "   subject_id   chartdate                     category  \\\n",
       "0           0  01/01/2086                      Urology   \n",
       "1           0  01/01/2086       Emergency Room Reports   \n",
       "2           0  01/01/2086             General Medicine   \n",
       "3           0  01/01/2086             General Medicine   \n",
       "4           0  01/01/2086   Consult - History and Phy.   \n",
       "\n",
       "                                                text  \n",
       "0  CHIEF COMPLAINT: , Blood in urine.,HISTORY OF ...  \n",
       "1  CHIEF COMPLAINT: , Blood in urine.,HISTORY OF ...  \n",
       "2  CHIEF COMPLAINT: , Blood in urine.,HISTORY OF ...  \n",
       "3  CHIEF COMPLAINT:,  Followup on hypertension an...  \n",
       "4  CHIEF COMPLAINT: , Blood in urine.,HISTORY OF ...  "
      ],
      "text/html": "<div>\n<style scoped>\n    .dataframe tbody tr th:only-of-type {\n        vertical-align: middle;\n    }\n\n    .dataframe tbody tr th {\n        vertical-align: top;\n    }\n\n    .dataframe thead th {\n        text-align: right;\n    }\n</style>\n<table border=\"1\" class=\"dataframe\">\n  <thead>\n    <tr style=\"text-align: right;\">\n      <th></th>\n      <th>subject_id</th>\n      <th>chartdate</th>\n      <th>category</th>\n      <th>text</th>\n    </tr>\n  </thead>\n  <tbody>\n    <tr>\n      <th>0</th>\n      <td>0</td>\n      <td>01/01/2086</td>\n      <td>Urology</td>\n      <td>CHIEF COMPLAINT: , Blood in urine.,HISTORY OF ...</td>\n    </tr>\n    <tr>\n      <th>1</th>\n      <td>0</td>\n      <td>01/01/2086</td>\n      <td>Emergency Room Reports</td>\n      <td>CHIEF COMPLAINT: , Blood in urine.,HISTORY OF ...</td>\n    </tr>\n    <tr>\n      <th>2</th>\n      <td>0</td>\n      <td>01/01/2086</td>\n      <td>General Medicine</td>\n      <td>CHIEF COMPLAINT: , Blood in urine.,HISTORY OF ...</td>\n    </tr>\n    <tr>\n      <th>3</th>\n      <td>0</td>\n      <td>01/01/2086</td>\n      <td>General Medicine</td>\n      <td>CHIEF COMPLAINT:,  Followup on hypertension an...</td>\n    </tr>\n    <tr>\n      <th>4</th>\n      <td>0</td>\n      <td>01/01/2086</td>\n      <td>Consult - History and Phy.</td>\n      <td>CHIEF COMPLAINT: , Blood in urine.,HISTORY OF ...</td>\n    </tr>\n  </tbody>\n</table>\n</div>"
     },
     "metadata": {},
     "execution_count": 9
    }
   ],
   "source": [
    "#read 'noteevents.xlsx' file into a DataFrame.\n",
    "df2 = pd.read_csv('CSV/noteevents.csv')\n",
    "df2.head()"
   ]
  },
  {
   "cell_type": "code",
   "execution_count": 10,
   "metadata": {},
   "outputs": [
    {
     "output_type": "execute_result",
     "data": {
      "text/plain": [
       "array([' Urology', ' Emergency Room Reports', ' General Medicine',\n",
       "       ' Consult - History and Phy.', ' Rheumatology', ' Dermatology',\n",
       "       ' Radiology', ' Obstetrics / Gynecology', ' Discharge Summary',\n",
       "       ' Cardiovascular / Pulmonary', ' Letters', ' Gastroenterology',\n",
       "       ' Orthopedic', ' SOAP / Chart / Progress Notes', ' Office Notes',\n",
       "       ' Psychiatry / Psychology', ' Neurology', ' Hematology - Oncology',\n",
       "       ' Surgery', ' Physical Medicine - Rehab', ' Nephrology',\n",
       "       ' Sleep Medicine', ' Speech - Language', ' IME-QME-Work Comp etc.',\n",
       "       ' Diets and Nutritions', ' Allergy / Immunology', ' Bariatrics',\n",
       "       ' Dentistry', ' Endocrinology', ' Autopsy',\n",
       "       ' ENT - Otolaryngology', ' Neurosurgery', ' Chiropractic',\n",
       "       ' Podiatry', ' Ophthalmology', ' Cosmetic / Plastic Surgery'],\n",
       "      dtype=object)"
      ]
     },
     "metadata": {},
     "execution_count": 10
    }
   ],
   "source": [
    "#print the unique values of 'category' column\n",
    "df2['category'].unique()"
   ]
  },
  {
   "cell_type": "code",
   "execution_count": 11,
   "metadata": {},
   "outputs": [
    {
     "output_type": "execute_result",
     "data": {
      "text/plain": [
       "      subject_id gender       dob       Date   age   chartdate  \\\n",
       "0              0      M  1/1/2000 2000-01-01  21.0  01/01/2086   \n",
       "1              0      M  1/1/2000 2000-01-01  21.0  01/01/2086   \n",
       "2              0      M  1/1/2000 2000-01-01  21.0  01/01/2086   \n",
       "3              0      M  1/1/2000 2000-01-01  21.0  01/01/2086   \n",
       "4              0      M  1/1/2000 2000-01-01  21.0  01/01/2086   \n",
       "...          ...    ...       ...        ...   ...         ...   \n",
       "2125         297      F  1/1/2000 2000-01-01  21.0  01/01/2059   \n",
       "2126         298      F  6/1/1967 1967-06-01  53.0  01/01/2075   \n",
       "2127         298      F  6/1/1967 1967-06-01  53.0  01/01/2075   \n",
       "2128         298      F  6/1/1967 1967-06-01  53.0  01/01/2075   \n",
       "2129         298      F  6/1/1967 1967-06-01  53.0  01/01/2075   \n",
       "\n",
       "                            category  \\\n",
       "0                            Urology   \n",
       "1             Emergency Room Reports   \n",
       "2                   General Medicine   \n",
       "3                   General Medicine   \n",
       "4         Consult - History and Phy.   \n",
       "...                              ...   \n",
       "2125      Cardiovascular / Pulmonary   \n",
       "2126         Obstetrics / Gynecology   \n",
       "2127   SOAP / Chart / Progress Notes   \n",
       "2128         Obstetrics / Gynecology   \n",
       "2129               Speech - Language   \n",
       "\n",
       "                                                   text  \n",
       "0     CHIEF COMPLAINT: , Blood in urine.,HISTORY OF ...  \n",
       "1     CHIEF COMPLAINT: , Blood in urine.,HISTORY OF ...  \n",
       "2     CHIEF COMPLAINT: , Blood in urine.,HISTORY OF ...  \n",
       "3     CHIEF COMPLAINT:,  Followup on hypertension an...  \n",
       "4     CHIEF COMPLAINT: , Blood in urine.,HISTORY OF ...  \n",
       "...                                                 ...  \n",
       "2125  INDICATIONS FOR PROCEDURE:, A 51-year-old, obe...  \n",
       "2126  HISTORY OF PRESENT ILLNESS:,  The patient is a...  \n",
       "2127  HISTORY OF PRESENT ILLNESS:,  The patient is a...  \n",
       "2128  HISTORY OF PRESENT ILLNESS:,  The patient is a...  \n",
       "2129  HISTORY: , The patient is a 67-year-old female...  \n",
       "\n",
       "[2130 rows x 8 columns]"
      ],
      "text/html": "<div>\n<style scoped>\n    .dataframe tbody tr th:only-of-type {\n        vertical-align: middle;\n    }\n\n    .dataframe tbody tr th {\n        vertical-align: top;\n    }\n\n    .dataframe thead th {\n        text-align: right;\n    }\n</style>\n<table border=\"1\" class=\"dataframe\">\n  <thead>\n    <tr style=\"text-align: right;\">\n      <th></th>\n      <th>subject_id</th>\n      <th>gender</th>\n      <th>dob</th>\n      <th>Date</th>\n      <th>age</th>\n      <th>chartdate</th>\n      <th>category</th>\n      <th>text</th>\n    </tr>\n  </thead>\n  <tbody>\n    <tr>\n      <th>0</th>\n      <td>0</td>\n      <td>M</td>\n      <td>1/1/2000</td>\n      <td>2000-01-01</td>\n      <td>21.0</td>\n      <td>01/01/2086</td>\n      <td>Urology</td>\n      <td>CHIEF COMPLAINT: , Blood in urine.,HISTORY OF ...</td>\n    </tr>\n    <tr>\n      <th>1</th>\n      <td>0</td>\n      <td>M</td>\n      <td>1/1/2000</td>\n      <td>2000-01-01</td>\n      <td>21.0</td>\n      <td>01/01/2086</td>\n      <td>Emergency Room Reports</td>\n      <td>CHIEF COMPLAINT: , Blood in urine.,HISTORY OF ...</td>\n    </tr>\n    <tr>\n      <th>2</th>\n      <td>0</td>\n      <td>M</td>\n      <td>1/1/2000</td>\n      <td>2000-01-01</td>\n      <td>21.0</td>\n      <td>01/01/2086</td>\n      <td>General Medicine</td>\n      <td>CHIEF COMPLAINT: , Blood in urine.,HISTORY OF ...</td>\n    </tr>\n    <tr>\n      <th>3</th>\n      <td>0</td>\n      <td>M</td>\n      <td>1/1/2000</td>\n      <td>2000-01-01</td>\n      <td>21.0</td>\n      <td>01/01/2086</td>\n      <td>General Medicine</td>\n      <td>CHIEF COMPLAINT:,  Followup on hypertension an...</td>\n    </tr>\n    <tr>\n      <th>4</th>\n      <td>0</td>\n      <td>M</td>\n      <td>1/1/2000</td>\n      <td>2000-01-01</td>\n      <td>21.0</td>\n      <td>01/01/2086</td>\n      <td>Consult - History and Phy.</td>\n      <td>CHIEF COMPLAINT: , Blood in urine.,HISTORY OF ...</td>\n    </tr>\n    <tr>\n      <th>...</th>\n      <td>...</td>\n      <td>...</td>\n      <td>...</td>\n      <td>...</td>\n      <td>...</td>\n      <td>...</td>\n      <td>...</td>\n      <td>...</td>\n    </tr>\n    <tr>\n      <th>2125</th>\n      <td>297</td>\n      <td>F</td>\n      <td>1/1/2000</td>\n      <td>2000-01-01</td>\n      <td>21.0</td>\n      <td>01/01/2059</td>\n      <td>Cardiovascular / Pulmonary</td>\n      <td>INDICATIONS FOR PROCEDURE:, A 51-year-old, obe...</td>\n    </tr>\n    <tr>\n      <th>2126</th>\n      <td>298</td>\n      <td>F</td>\n      <td>6/1/1967</td>\n      <td>1967-06-01</td>\n      <td>53.0</td>\n      <td>01/01/2075</td>\n      <td>Obstetrics / Gynecology</td>\n      <td>HISTORY OF PRESENT ILLNESS:,  The patient is a...</td>\n    </tr>\n    <tr>\n      <th>2127</th>\n      <td>298</td>\n      <td>F</td>\n      <td>6/1/1967</td>\n      <td>1967-06-01</td>\n      <td>53.0</td>\n      <td>01/01/2075</td>\n      <td>SOAP / Chart / Progress Notes</td>\n      <td>HISTORY OF PRESENT ILLNESS:,  The patient is a...</td>\n    </tr>\n    <tr>\n      <th>2128</th>\n      <td>298</td>\n      <td>F</td>\n      <td>6/1/1967</td>\n      <td>1967-06-01</td>\n      <td>53.0</td>\n      <td>01/01/2075</td>\n      <td>Obstetrics / Gynecology</td>\n      <td>HISTORY OF PRESENT ILLNESS:,  The patient is a...</td>\n    </tr>\n    <tr>\n      <th>2129</th>\n      <td>298</td>\n      <td>F</td>\n      <td>6/1/1967</td>\n      <td>1967-06-01</td>\n      <td>53.0</td>\n      <td>01/01/2075</td>\n      <td>Speech - Language</td>\n      <td>HISTORY: , The patient is a 67-year-old female...</td>\n    </tr>\n  </tbody>\n</table>\n<p>2130 rows × 8 columns</p>\n</div>"
     },
     "metadata": {},
     "execution_count": 11
    }
   ],
   "source": [
    "#merge noteevents and patient dataframe based on the patient_id\n",
    "merge_data = pd.merge(df,df2,on='subject_id')\n",
    "merge_data"
   ]
  },
  {
   "cell_type": "code",
   "execution_count": 13,
   "metadata": {},
   "outputs": [
    {
     "output_type": "execute_result",
     "data": {
      "text/plain": [
       "gender\n",
       "F    37.216007\n",
       "M    37.477273\n",
       "Name: age, dtype: float64"
      ]
     },
     "metadata": {},
     "execution_count": 13
    }
   ],
   "source": [
    "#groupby() to show the mean age per gender\n",
    "grouped_gender = merge_data.groupby('gender')\n",
    "gender_id = grouped_gender.age.mean()\n",
    "gender_id"
   ]
  },
  {
   "cell_type": "code",
   "execution_count": 14,
   "metadata": {},
   "outputs": [
    {
     "output_type": "execute_result",
     "data": {
      "text/plain": [
       "      subject_id gender        dob       Date   age   chartdate  \\\n",
       "6              1      F  1/10/1969 1969-01-10  52.0  01/01/2079   \n",
       "7              1      F  1/10/1969 1969-01-10  52.0  01/01/2079   \n",
       "8              1      F  1/10/1969 1969-01-10  52.0  01/01/2079   \n",
       "17             3      M   6/1/1967 1967-06-01  53.0  01/01/2075   \n",
       "18             3      M   6/1/1967 1967-06-01  53.0  01/01/2075   \n",
       "...          ...    ...        ...        ...   ...         ...   \n",
       "2121         296      F   6/2/1963 1963-06-02  57.0  01/01/2090   \n",
       "2126         298      F   6/1/1967 1967-06-01  53.0  01/01/2075   \n",
       "2127         298      F   6/1/1967 1967-06-01  53.0  01/01/2075   \n",
       "2128         298      F   6/1/1967 1967-06-01  53.0  01/01/2075   \n",
       "2129         298      F   6/1/1967 1967-06-01  53.0  01/01/2075   \n",
       "\n",
       "                            category  \\\n",
       "6                   General Medicine   \n",
       "7                       Rheumatology   \n",
       "8         Consult - History and Phy.   \n",
       "17                 Discharge Summary   \n",
       "18        Cardiovascular / Pulmonary   \n",
       "...                              ...   \n",
       "2121      Consult - History and Phy.   \n",
       "2126         Obstetrics / Gynecology   \n",
       "2127   SOAP / Chart / Progress Notes   \n",
       "2128         Obstetrics / Gynecology   \n",
       "2129               Speech - Language   \n",
       "\n",
       "                                                   text  \n",
       "6     HISTORY OF PRESENT ILLNESS:, The patient is a ...  \n",
       "7     HISTORY OF PRESENT ILLNESS: , A 71-year-old fe...  \n",
       "8     HISTORY OF PRESENT ILLNESS:, The patient is a ...  \n",
       "17    HISTORY OF PRESENT ILLNESS:  ,A 67-year-old ma...  \n",
       "18    Dear Sample Doctor:,Thank you for referring Mr...  \n",
       "...                                                 ...  \n",
       "2121  PROBLEM:,  Probable Coumadin hypersensitivity....  \n",
       "2126  HISTORY OF PRESENT ILLNESS:,  The patient is a...  \n",
       "2127  HISTORY OF PRESENT ILLNESS:,  The patient is a...  \n",
       "2128  HISTORY OF PRESENT ILLNESS:,  The patient is a...  \n",
       "2129  HISTORY: , The patient is a 67-year-old female...  \n",
       "\n",
       "[916 rows x 8 columns]"
      ],
      "text/html": "<div>\n<style scoped>\n    .dataframe tbody tr th:only-of-type {\n        vertical-align: middle;\n    }\n\n    .dataframe tbody tr th {\n        vertical-align: top;\n    }\n\n    .dataframe thead th {\n        text-align: right;\n    }\n</style>\n<table border=\"1\" class=\"dataframe\">\n  <thead>\n    <tr style=\"text-align: right;\">\n      <th></th>\n      <th>subject_id</th>\n      <th>gender</th>\n      <th>dob</th>\n      <th>Date</th>\n      <th>age</th>\n      <th>chartdate</th>\n      <th>category</th>\n      <th>text</th>\n    </tr>\n  </thead>\n  <tbody>\n    <tr>\n      <th>6</th>\n      <td>1</td>\n      <td>F</td>\n      <td>1/10/1969</td>\n      <td>1969-01-10</td>\n      <td>52.0</td>\n      <td>01/01/2079</td>\n      <td>General Medicine</td>\n      <td>HISTORY OF PRESENT ILLNESS:, The patient is a ...</td>\n    </tr>\n    <tr>\n      <th>7</th>\n      <td>1</td>\n      <td>F</td>\n      <td>1/10/1969</td>\n      <td>1969-01-10</td>\n      <td>52.0</td>\n      <td>01/01/2079</td>\n      <td>Rheumatology</td>\n      <td>HISTORY OF PRESENT ILLNESS: , A 71-year-old fe...</td>\n    </tr>\n    <tr>\n      <th>8</th>\n      <td>1</td>\n      <td>F</td>\n      <td>1/10/1969</td>\n      <td>1969-01-10</td>\n      <td>52.0</td>\n      <td>01/01/2079</td>\n      <td>Consult - History and Phy.</td>\n      <td>HISTORY OF PRESENT ILLNESS:, The patient is a ...</td>\n    </tr>\n    <tr>\n      <th>17</th>\n      <td>3</td>\n      <td>M</td>\n      <td>6/1/1967</td>\n      <td>1967-06-01</td>\n      <td>53.0</td>\n      <td>01/01/2075</td>\n      <td>Discharge Summary</td>\n      <td>HISTORY OF PRESENT ILLNESS:  ,A 67-year-old ma...</td>\n    </tr>\n    <tr>\n      <th>18</th>\n      <td>3</td>\n      <td>M</td>\n      <td>6/1/1967</td>\n      <td>1967-06-01</td>\n      <td>53.0</td>\n      <td>01/01/2075</td>\n      <td>Cardiovascular / Pulmonary</td>\n      <td>Dear Sample Doctor:,Thank you for referring Mr...</td>\n    </tr>\n    <tr>\n      <th>...</th>\n      <td>...</td>\n      <td>...</td>\n      <td>...</td>\n      <td>...</td>\n      <td>...</td>\n      <td>...</td>\n      <td>...</td>\n      <td>...</td>\n    </tr>\n    <tr>\n      <th>2121</th>\n      <td>296</td>\n      <td>F</td>\n      <td>6/2/1963</td>\n      <td>1963-06-02</td>\n      <td>57.0</td>\n      <td>01/01/2090</td>\n      <td>Consult - History and Phy.</td>\n      <td>PROBLEM:,  Probable Coumadin hypersensitivity....</td>\n    </tr>\n    <tr>\n      <th>2126</th>\n      <td>298</td>\n      <td>F</td>\n      <td>6/1/1967</td>\n      <td>1967-06-01</td>\n      <td>53.0</td>\n      <td>01/01/2075</td>\n      <td>Obstetrics / Gynecology</td>\n      <td>HISTORY OF PRESENT ILLNESS:,  The patient is a...</td>\n    </tr>\n    <tr>\n      <th>2127</th>\n      <td>298</td>\n      <td>F</td>\n      <td>6/1/1967</td>\n      <td>1967-06-01</td>\n      <td>53.0</td>\n      <td>01/01/2075</td>\n      <td>SOAP / Chart / Progress Notes</td>\n      <td>HISTORY OF PRESENT ILLNESS:,  The patient is a...</td>\n    </tr>\n    <tr>\n      <th>2128</th>\n      <td>298</td>\n      <td>F</td>\n      <td>6/1/1967</td>\n      <td>1967-06-01</td>\n      <td>53.0</td>\n      <td>01/01/2075</td>\n      <td>Obstetrics / Gynecology</td>\n      <td>HISTORY OF PRESENT ILLNESS:,  The patient is a...</td>\n    </tr>\n    <tr>\n      <th>2129</th>\n      <td>298</td>\n      <td>F</td>\n      <td>6/1/1967</td>\n      <td>1967-06-01</td>\n      <td>53.0</td>\n      <td>01/01/2075</td>\n      <td>Speech - Language</td>\n      <td>HISTORY: , The patient is a 67-year-old female...</td>\n    </tr>\n  </tbody>\n</table>\n<p>916 rows × 8 columns</p>\n</div>"
     },
     "metadata": {},
     "execution_count": 14
    }
   ],
   "source": [
    "#filter the dataframe to return information only for patients whose age is more than 50 years old. \n",
    "age_filter = merge_data[merge_data['age']>50]\n",
    "age_filter"
   ]
  },
  {
   "cell_type": "code",
   "execution_count": 15,
   "metadata": {},
   "outputs": [
    {
     "output_type": "execute_result",
     "data": {
      "text/plain": [
       " Consult - History and Phy.       561\n",
       " General Medicine                 225\n",
       " SOAP / Chart / Progress Notes    145\n",
       " Cardiovascular / Pulmonary       126\n",
       " Orthopedic                       122\n",
       " Neurology                         96\n",
       " Gastroenterology                  90\n",
       " Emergency Room Reports            74\n",
       " Radiology                         71\n",
       " Surgery                           64\n",
       " Physical Medicine - Rehab         61\n",
       " Psychiatry / Psychology           56\n",
       " Obstetrics / Gynecology           40\n",
       " Urology                           38\n",
       " Nephrology                        38\n",
       " Dermatology                       34\n",
       " Hematology - Oncology             32\n",
       " Office Notes                      29\n",
       " Podiatry                          25\n",
       " Allergy / Immunology              23\n",
       " Autopsy                           21\n",
       " Rheumatology                      21\n",
       " IME-QME-Work Comp etc.            17\n",
       " Discharge Summary                 17\n",
       " ENT - Otolaryngology              15\n",
       " Endocrinology                     14\n",
       " Letters                           13\n",
       " Sleep Medicine                    11\n",
       " Dentistry                         10\n",
       " Ophthalmology                     10\n",
       " Diets and Nutritions               9\n",
       " Speech - Language                  8\n",
       " Chiropractic                       6\n",
       " Bariatrics                         3\n",
       " Neurosurgery                       3\n",
       " Cosmetic / Plastic Surgery         2\n",
       "Name: category, dtype: int64"
      ]
     },
     "metadata": {},
     "execution_count": 15
    }
   ],
   "source": [
    "#plot which category has the highest amount of requests and this corresponding amount per gender\n",
    "cat = merge_data['category'].value_counts(dropna=False)\n",
    "cat"
   ]
  },
  {
   "cell_type": "code",
   "execution_count": null,
   "metadata": {},
   "outputs": [],
   "source": []
  }
 ]
}